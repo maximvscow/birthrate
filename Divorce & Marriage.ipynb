{
 "cells": [
  {
   "cell_type": "markdown",
   "id": "a175d468",
   "metadata": {},
   "source": [
    "## Построение графика по количесту зарегистрированных разводов за месяц с 2009 по 2021 год\n"
   ]
  },
  {
   "cell_type": "markdown",
   "id": "2bd41e28",
   "metadata": {},
   "source": [
    "Официальные данные РОССТАТ экспортированы с сайта: \n",
    "     'http://bi.gks.ru/biportal/contourbi.jsp?allsol=1&solution=Dashboard'"
   ]
  },
  {
   "cell_type": "markdown",
   "id": "79be3f6d",
   "metadata": {},
   "source": [
    "Импорт библиотеки pandas (для работы с табличными данными) и pyplot для построения графика"
   ]
  },
  {
   "cell_type": "code",
   "execution_count": 89,
   "id": "6e1a5734",
   "metadata": {},
   "outputs": [],
   "source": [
    "import pandas as pd\n",
    "import matplotlib.pyplot as plt\n",
    "#  Подключаем модуль управления тиками:\n",
    "import matplotlib.ticker as ticker\n",
    "from sklearn.metrics import r2_score\n",
    "import ml_metrics as metrics"
   ]
  },
  {
   "cell_type": "code",
   "execution_count": 88,
   "id": "9b07ad6b",
   "metadata": {},
   "outputs": [
    {
     "name": "stdout",
     "output_type": "stream",
     "text": [
      "Collecting ml_metrics\n",
      "  Downloading ml_metrics-0.1.4.tar.gz (5.0 kB)\n",
      "Requirement already satisfied: numpy in c:\\programdata\\anaconda3\\lib\\site-packages (from ml_metrics) (1.20.1)\n",
      "Requirement already satisfied: pandas in c:\\programdata\\anaconda3\\lib\\site-packages (from ml_metrics) (1.2.4)\n",
      "Requirement already satisfied: python-dateutil>=2.7.3 in c:\\programdata\\anaconda3\\lib\\site-packages (from pandas->ml_metrics) (2.8.1)\n",
      "Requirement already satisfied: pytz>=2017.3 in c:\\programdata\\anaconda3\\lib\\site-packages (from pandas->ml_metrics) (2021.1)\n",
      "Requirement already satisfied: six>=1.5 in c:\\programdata\\anaconda3\\lib\\site-packages (from python-dateutil>=2.7.3->pandas->ml_metrics) (1.15.0)\n",
      "Building wheels for collected packages: ml-metrics\n",
      "  Building wheel for ml-metrics (setup.py): started\n",
      "  Building wheel for ml-metrics (setup.py): finished with status 'done'\n",
      "  Created wheel for ml-metrics: filename=ml_metrics-0.1.4-py3-none-any.whl size=7848 sha256=fc880dd077646fcc1297fc119f3eabf6d1de6cef99c030d6691d0cf02295f1dc\n",
      "  Stored in directory: c:\\users\\admin\\appdata\\local\\pip\\cache\\wheels\\09\\2d\\e7\\58a96e635aedc543a3a78ff855dc9911d98fc1640e3921c823\n",
      "Successfully built ml-metrics\n",
      "Installing collected packages: ml-metrics\n",
      "Successfully installed ml-metrics-0.1.4\n"
     ]
    }
   ],
   "source": [
    "!pip install ml_metrics"
   ]
  },
  {
   "cell_type": "markdown",
   "id": "4b3ed63d",
   "metadata": {},
   "source": [
    "Загрузка в датафрейм pandas из csv "
   ]
  },
  {
   "cell_type": "code",
   "execution_count": 121,
   "id": "a552150d",
   "metadata": {},
   "outputs": [],
   "source": [
    "df = pd.read_csv('divorce_marriage.csv', encoding='ansi')"
   ]
  },
  {
   "cell_type": "markdown",
   "id": "35f9f810",
   "metadata": {},
   "source": [
    "Отображение датафрейма"
   ]
  },
  {
   "cell_type": "code",
   "execution_count": 122,
   "id": "f64b5227",
   "metadata": {},
   "outputs": [
    {
     "data": {
      "text/html": [
       "<div>\n",
       "<style scoped>\n",
       "    .dataframe tbody tr th:only-of-type {\n",
       "        vertical-align: middle;\n",
       "    }\n",
       "\n",
       "    .dataframe tbody tr th {\n",
       "        vertical-align: top;\n",
       "    }\n",
       "\n",
       "    .dataframe thead th {\n",
       "        text-align: right;\n",
       "    }\n",
       "</style>\n",
       "<table border=\"1\" class=\"dataframe\">\n",
       "  <thead>\n",
       "    <tr style=\"text-align: right;\">\n",
       "      <th></th>\n",
       "      <th>territory</th>\n",
       "      <th>id_indicator</th>\n",
       "      <th>period</th>\n",
       "      <th>territory.ccube.0</th>\n",
       "      <th>territory.ccube.1</th>\n",
       "      <th>territory.ccube.2</th>\n",
       "      <th>territory.ccube.attr.0</th>\n",
       "      <th>territory.ccube.3</th>\n",
       "      <th>territory.ccube.4</th>\n",
       "      <th>value</th>\n",
       "    </tr>\n",
       "  </thead>\n",
       "  <tbody>\n",
       "    <tr>\n",
       "      <th>0</th>\n",
       "      <td>643</td>\n",
       "      <td>814</td>\n",
       "      <td>31 Jan 2009 00:00:00</td>\n",
       "      <td>Российская Федерация</td>\n",
       "      <td>NaN</td>\n",
       "      <td>NaN</td>\n",
       "      <td>1</td>\n",
       "      <td>Российская Федерация</td>\n",
       "      <td>Российская Федерация</td>\n",
       "      <td>5.44</td>\n",
       "    </tr>\n",
       "    <tr>\n",
       "      <th>1</th>\n",
       "      <td>643</td>\n",
       "      <td>814</td>\n",
       "      <td>28 Feb 2009 00:00:00</td>\n",
       "      <td>Российская Федерация</td>\n",
       "      <td>NaN</td>\n",
       "      <td>NaN</td>\n",
       "      <td>1</td>\n",
       "      <td>Российская Федерация</td>\n",
       "      <td>Российская Федерация</td>\n",
       "      <td>6.39</td>\n",
       "    </tr>\n",
       "    <tr>\n",
       "      <th>2</th>\n",
       "      <td>643</td>\n",
       "      <td>814</td>\n",
       "      <td>31 Mar 2009 00:00:00</td>\n",
       "      <td>Российская Федерация</td>\n",
       "      <td>NaN</td>\n",
       "      <td>NaN</td>\n",
       "      <td>1</td>\n",
       "      <td>Российская Федерация</td>\n",
       "      <td>Российская Федерация</td>\n",
       "      <td>6.05</td>\n",
       "    </tr>\n",
       "    <tr>\n",
       "      <th>3</th>\n",
       "      <td>643</td>\n",
       "      <td>814</td>\n",
       "      <td>30 Apr 2009 00:00:00</td>\n",
       "      <td>Российская Федерация</td>\n",
       "      <td>NaN</td>\n",
       "      <td>NaN</td>\n",
       "      <td>1</td>\n",
       "      <td>Российская Федерация</td>\n",
       "      <td>Российская Федерация</td>\n",
       "      <td>6.65</td>\n",
       "    </tr>\n",
       "    <tr>\n",
       "      <th>4</th>\n",
       "      <td>643</td>\n",
       "      <td>814</td>\n",
       "      <td>31 May 2009 00:00:00</td>\n",
       "      <td>Российская Федерация</td>\n",
       "      <td>NaN</td>\n",
       "      <td>NaN</td>\n",
       "      <td>1</td>\n",
       "      <td>Российская Федерация</td>\n",
       "      <td>Российская Федерация</td>\n",
       "      <td>6.06</td>\n",
       "    </tr>\n",
       "    <tr>\n",
       "      <th>...</th>\n",
       "      <td>...</td>\n",
       "      <td>...</td>\n",
       "      <td>...</td>\n",
       "      <td>...</td>\n",
       "      <td>...</td>\n",
       "      <td>...</td>\n",
       "      <td>...</td>\n",
       "      <td>...</td>\n",
       "      <td>...</td>\n",
       "      <td>...</td>\n",
       "    </tr>\n",
       "    <tr>\n",
       "      <th>28873</th>\n",
       "      <td>10000000</td>\n",
       "      <td>816</td>\n",
       "      <td>31 Dec 2021 00:00:00</td>\n",
       "      <td>Российская Федерация</td>\n",
       "      <td>Дальневосточный федеральный округ</td>\n",
       "      <td>Амурская область</td>\n",
       "      <td>3</td>\n",
       "      <td>Амурская область</td>\n",
       "      <td>Амурская область</td>\n",
       "      <td>5.60</td>\n",
       "    </tr>\n",
       "    <tr>\n",
       "      <th>28874</th>\n",
       "      <td>44000000</td>\n",
       "      <td>816</td>\n",
       "      <td>31 Dec 2021 00:00:00</td>\n",
       "      <td>Российская Федерация</td>\n",
       "      <td>Дальневосточный федеральный округ</td>\n",
       "      <td>Магаданская область</td>\n",
       "      <td>3</td>\n",
       "      <td>Магаданская область</td>\n",
       "      <td>Магаданская область</td>\n",
       "      <td>5.90</td>\n",
       "    </tr>\n",
       "    <tr>\n",
       "      <th>28875</th>\n",
       "      <td>64000000</td>\n",
       "      <td>816</td>\n",
       "      <td>31 Dec 2021 00:00:00</td>\n",
       "      <td>Российская Федерация</td>\n",
       "      <td>Дальневосточный федеральный округ</td>\n",
       "      <td>Сахалинская область</td>\n",
       "      <td>3</td>\n",
       "      <td>Сахалинская область</td>\n",
       "      <td>Сахалинская область</td>\n",
       "      <td>5.00</td>\n",
       "    </tr>\n",
       "    <tr>\n",
       "      <th>28876</th>\n",
       "      <td>99000000</td>\n",
       "      <td>816</td>\n",
       "      <td>31 Dec 2021 00:00:00</td>\n",
       "      <td>Российская Федерация</td>\n",
       "      <td>Дальневосточный федеральный округ</td>\n",
       "      <td>Еврейская автономная область</td>\n",
       "      <td>3</td>\n",
       "      <td>Еврейская автономная область</td>\n",
       "      <td>Еврейская автономная область</td>\n",
       "      <td>6.40</td>\n",
       "    </tr>\n",
       "    <tr>\n",
       "      <th>28877</th>\n",
       "      <td>77000000</td>\n",
       "      <td>816</td>\n",
       "      <td>31 Dec 2021 00:00:00</td>\n",
       "      <td>Российская Федерация</td>\n",
       "      <td>Дальневосточный федеральный округ</td>\n",
       "      <td>Чукотский автономный округ</td>\n",
       "      <td>3</td>\n",
       "      <td>Чукотский автономный округ</td>\n",
       "      <td>Чукотский автономный округ</td>\n",
       "      <td>4.60</td>\n",
       "    </tr>\n",
       "  </tbody>\n",
       "</table>\n",
       "<p>28878 rows × 10 columns</p>\n",
       "</div>"
      ],
      "text/plain": [
       "       territory  id_indicator                period     territory.ccube.0  \\\n",
       "0            643           814  31 Jan 2009 00:00:00  Российская Федерация   \n",
       "1            643           814  28 Feb 2009 00:00:00  Российская Федерация   \n",
       "2            643           814  31 Mar 2009 00:00:00  Российская Федерация   \n",
       "3            643           814  30 Apr 2009 00:00:00  Российская Федерация   \n",
       "4            643           814  31 May 2009 00:00:00  Российская Федерация   \n",
       "...          ...           ...                   ...                   ...   \n",
       "28873   10000000           816  31 Dec 2021 00:00:00  Российская Федерация   \n",
       "28874   44000000           816  31 Dec 2021 00:00:00  Российская Федерация   \n",
       "28875   64000000           816  31 Dec 2021 00:00:00  Российская Федерация   \n",
       "28876   99000000           816  31 Dec 2021 00:00:00  Российская Федерация   \n",
       "28877   77000000           816  31 Dec 2021 00:00:00  Российская Федерация   \n",
       "\n",
       "                       territory.ccube.1             territory.ccube.2  \\\n",
       "0                                    NaN                           NaN   \n",
       "1                                    NaN                           NaN   \n",
       "2                                    NaN                           NaN   \n",
       "3                                    NaN                           NaN   \n",
       "4                                    NaN                           NaN   \n",
       "...                                  ...                           ...   \n",
       "28873  Дальневосточный федеральный округ              Амурская область   \n",
       "28874  Дальневосточный федеральный округ           Магаданская область   \n",
       "28875  Дальневосточный федеральный округ           Сахалинская область   \n",
       "28876  Дальневосточный федеральный округ  Еврейская автономная область   \n",
       "28877  Дальневосточный федеральный округ    Чукотский автономный округ   \n",
       "\n",
       "       territory.ccube.attr.0             territory.ccube.3  \\\n",
       "0                           1          Российская Федерация   \n",
       "1                           1          Российская Федерация   \n",
       "2                           1          Российская Федерация   \n",
       "3                           1          Российская Федерация   \n",
       "4                           1          Российская Федерация   \n",
       "...                       ...                           ...   \n",
       "28873                       3              Амурская область   \n",
       "28874                       3           Магаданская область   \n",
       "28875                       3           Сахалинская область   \n",
       "28876                       3  Еврейская автономная область   \n",
       "28877                       3    Чукотский автономный округ   \n",
       "\n",
       "                  territory.ccube.4  value  \n",
       "0              Российская Федерация   5.44  \n",
       "1              Российская Федерация   6.39  \n",
       "2              Российская Федерация   6.05  \n",
       "3              Российская Федерация   6.65  \n",
       "4              Российская Федерация   6.06  \n",
       "...                             ...    ...  \n",
       "28873              Амурская область   5.60  \n",
       "28874           Магаданская область   5.90  \n",
       "28875           Сахалинская область   5.00  \n",
       "28876  Еврейская автономная область   6.40  \n",
       "28877    Чукотский автономный округ   4.60  \n",
       "\n",
       "[28878 rows x 10 columns]"
      ]
     },
     "execution_count": 122,
     "metadata": {},
     "output_type": "execute_result"
    }
   ],
   "source": [
    "df"
   ]
  },
  {
   "cell_type": "markdown",
   "id": "3be2cc0e",
   "metadata": {},
   "source": [
    "    - id_indicator - это id показателя (браки = 814, разводы = 816)\n",
    "    - territory.ccube.(0-2) - это идентификатор уровня субъекта (0 - страна, 1 - федеральный округ, 2 - область или округ)\n",
    "*В связи с этим составим датафрейм, выбрав только нужный нам субъект и показатель*"
   ]
  },
  {
   "cell_type": "code",
   "execution_count": 123,
   "id": "fe76a806",
   "metadata": {},
   "outputs": [],
   "source": [
    "orel_df = df.loc[(df['territory.ccube.3'] == 'Орловская область') & (df['id_indicator'] == 814)]"
   ]
  },
  {
   "cell_type": "markdown",
   "id": "5b864a07",
   "metadata": {},
   "source": [
    "Отображение нового датафрейма по бракам для Орловской области после удаления лишних колонок"
   ]
  },
  {
   "cell_type": "code",
   "execution_count": 124,
   "id": "cefbd0ca",
   "metadata": {},
   "outputs": [],
   "source": [
    "new_df = orel_df.drop([\"territory\", \"id_indicator\", \"territory.ccube.0\", \"territory.ccube.1\", \"territory.ccube.2\", \"territory.ccube.attr.0\", \"territory.ccube.3\", \"territory.ccube.4\"], axis=1)"
   ]
  },
  {
   "cell_type": "code",
   "execution_count": 125,
   "id": "833f0445",
   "metadata": {},
   "outputs": [
    {
     "data": {
      "text/html": [
       "<div>\n",
       "<style scoped>\n",
       "    .dataframe tbody tr th:only-of-type {\n",
       "        vertical-align: middle;\n",
       "    }\n",
       "\n",
       "    .dataframe tbody tr th {\n",
       "        vertical-align: top;\n",
       "    }\n",
       "\n",
       "    .dataframe thead th {\n",
       "        text-align: right;\n",
       "    }\n",
       "</style>\n",
       "<table border=\"1\" class=\"dataframe\">\n",
       "  <thead>\n",
       "    <tr style=\"text-align: right;\">\n",
       "      <th></th>\n",
       "      <th>period</th>\n",
       "      <th>value</th>\n",
       "    </tr>\n",
       "  </thead>\n",
       "  <tbody>\n",
       "    <tr>\n",
       "      <th>1584</th>\n",
       "      <td>31 Jan 2009 00:00:00</td>\n",
       "      <td>5.16</td>\n",
       "    </tr>\n",
       "    <tr>\n",
       "      <th>1585</th>\n",
       "      <td>28 Feb 2009 00:00:00</td>\n",
       "      <td>6.84</td>\n",
       "    </tr>\n",
       "    <tr>\n",
       "      <th>1586</th>\n",
       "      <td>31 Mar 2009 00:00:00</td>\n",
       "      <td>5.61</td>\n",
       "    </tr>\n",
       "    <tr>\n",
       "      <th>1587</th>\n",
       "      <td>30 Apr 2009 00:00:00</td>\n",
       "      <td>6.20</td>\n",
       "    </tr>\n",
       "    <tr>\n",
       "      <th>1588</th>\n",
       "      <td>31 May 2009 00:00:00</td>\n",
       "      <td>5.58</td>\n",
       "    </tr>\n",
       "    <tr>\n",
       "      <th>...</th>\n",
       "      <td>...</td>\n",
       "      <td>...</td>\n",
       "    </tr>\n",
       "    <tr>\n",
       "      <th>27950</th>\n",
       "      <td>31 Aug 2021 00:00:00</td>\n",
       "      <td>6.30</td>\n",
       "    </tr>\n",
       "    <tr>\n",
       "      <th>28138</th>\n",
       "      <td>30 Sep 2021 00:00:00</td>\n",
       "      <td>6.60</td>\n",
       "    </tr>\n",
       "    <tr>\n",
       "      <th>28326</th>\n",
       "      <td>31 Oct 2021 00:00:00</td>\n",
       "      <td>6.50</td>\n",
       "    </tr>\n",
       "    <tr>\n",
       "      <th>28514</th>\n",
       "      <td>30 Nov 2021 00:00:00</td>\n",
       "      <td>6.30</td>\n",
       "    </tr>\n",
       "    <tr>\n",
       "      <th>28702</th>\n",
       "      <td>31 Dec 2021 00:00:00</td>\n",
       "      <td>6.10</td>\n",
       "    </tr>\n",
       "  </tbody>\n",
       "</table>\n",
       "<p>155 rows × 2 columns</p>\n",
       "</div>"
      ],
      "text/plain": [
       "                     period  value\n",
       "1584   31 Jan 2009 00:00:00   5.16\n",
       "1585   28 Feb 2009 00:00:00   6.84\n",
       "1586   31 Mar 2009 00:00:00   5.61\n",
       "1587   30 Apr 2009 00:00:00   6.20\n",
       "1588   31 May 2009 00:00:00   5.58\n",
       "...                     ...    ...\n",
       "27950  31 Aug 2021 00:00:00   6.30\n",
       "28138  30 Sep 2021 00:00:00   6.60\n",
       "28326  31 Oct 2021 00:00:00   6.50\n",
       "28514  30 Nov 2021 00:00:00   6.30\n",
       "28702  31 Dec 2021 00:00:00   6.10\n",
       "\n",
       "[155 rows x 2 columns]"
      ]
     },
     "execution_count": 125,
     "metadata": {},
     "output_type": "execute_result"
    }
   ],
   "source": [
    "new_df.dropna()"
   ]
  },
  {
   "cell_type": "code",
   "execution_count": 126,
   "id": "f3e03bd6",
   "metadata": {},
   "outputs": [
    {
     "data": {
      "image/png": "[encoded data removed]",
      "text/plain": [
       "<Figure size 864x576 with 1 Axes>"
      ]
     },
     "metadata": {
      "needs_background": "light"
     },
     "output_type": "display_data"
    }
   ],
   "source": [
    "fig, ax = plt.subplots()\n",
    "\n",
    "x = new_df['period']\n",
    "y = new_df['value']\n",
    "\n",
    "ax.plot(x, y, color = 'r', linewidth = 2)\n",
    "\n",
    "#  Исправление формата подписей оси x\n",
    "ax.xaxis.set_major_locator(ticker.MultipleLocator(30))\n",
    "ax.xaxis.set_minor_locator(ticker.MultipleLocator(1))\n",
    "\n",
    "\n",
    "fig.set_figwidth(12)\n",
    "fig.set_figheight(8)\n",
    "\n",
    "plt.show()"
   ]
  },
  {
   "cell_type": "markdown",
   "id": "918e838d",
   "metadata": {},
   "source": [
    "## Построение графика автокорреляционной функции"
   ]
  },
  {
   "cell_type": "markdown",
   "id": "fb1c9c56",
   "metadata": {},
   "source": [
    "Импорт необходимых библиотек (если нет, установить через !pip install)"
   ]
  },
  {
   "cell_type": "code",
   "execution_count": 127,
   "id": "43ef87ed",
   "metadata": {},
   "outputs": [],
   "source": [
    "from statsmodels.graphics.tsaplots import plot_acf, plot_pacf"
   ]
  },
  {
   "cell_type": "code",
   "execution_count": 128,
   "id": "ff20fac7",
   "metadata": {},
   "outputs": [
    {
     "data": {
      "image/png": "[encoded data removed]",
      "text/plain": [
       "<Figure size 432x288 with 1 Axes>"
      ]
     },
     "execution_count": 128,
     "metadata": {},
     "output_type": "execute_result"
    },
    {
     "data": {
      "image/png": "[encoded data removed]",
      "text/plain": [
       "<Figure size 432x288 with 1 Axes>"
      ]
     },
     "metadata": {
      "needs_background": "light"
     },
     "output_type": "display_data"
    }
   ],
   "source": [
    "plot_acf(new_df['value'])"
   ]
  },
  {
   "cell_type": "markdown",
   "id": "ca0925bc",
   "metadata": {},
   "source": [
    "## Тест Дикки-Фуллера"
   ]
  },
  {
   "cell_type": "code",
   "execution_count": 129,
   "id": "af3c72bc",
   "metadata": {},
   "outputs": [],
   "source": [
    "import statsmodels.api as sm"
   ]
  },
  {
   "cell_type": "code",
   "execution_count": 130,
   "id": "ef63ee15",
   "metadata": {},
   "outputs": [
    {
     "name": "stdout",
     "output_type": "stream",
     "text": [
      "adf:  -1.6855543395519392\n",
      "p-value:  0.43857026279843736\n",
      "Critical values:  {'1%': -3.477261624048995, '5%': -2.8821181874544233, '10%': -2.5777431104939494}\n",
      "ряд не стационарен\n"
     ]
    }
   ],
   "source": [
    "test = sm.tsa.stattools.adfuller(orel_df['value'])\n",
    "print('adf: ', test[0]) \n",
    "print('p-value: ', test[1])\n",
    "print('Critical values: ', test[4])\n",
    "if test[0]> test[4]['5%']: \n",
    "    print('ряд не стационарен')\n",
    "else:\n",
    "    print('ряд стационарен')"
   ]
  },
  {
   "cell_type": "markdown",
   "id": "cc3476b5",
   "metadata": {},
   "source": [
    "### Немного полезных ссылок \n",
    "https://maxdrive.kyiv.ua/dokumentacija/pochta/kak-sdelat-vremennoj-rjad-stacionarnym-python\n",
    "http://distrland.blogspot.com/2020/06/python_28.html"
   ]
  },
  {
   "cell_type": "markdown",
   "id": "d5170acc",
   "metadata": {},
   "source": [
    "## Приведение ряда к стационарному виду"
   ]
  },
  {
   "cell_type": "markdown",
   "id": "981338e0",
   "metadata": {},
   "source": [
    "### Первый метод"
   ]
  },
  {
   "cell_type": "markdown",
   "id": "250c5ccc",
   "metadata": {},
   "source": [
    "Имеем следующий датафрейм:"
   ]
  },
  {
   "cell_type": "code",
   "execution_count": 12,
   "id": "2afc3d2b",
   "metadata": {},
   "outputs": [
    {
     "data": {
      "text/html": [
       "<div>\n",
       "<style scoped>\n",
       "    .dataframe tbody tr th:only-of-type {\n",
       "        vertical-align: middle;\n",
       "    }\n",
       "\n",
       "    .dataframe tbody tr th {\n",
       "        vertical-align: top;\n",
       "    }\n",
       "\n",
       "    .dataframe thead th {\n",
       "        text-align: right;\n",
       "    }\n",
       "</style>\n",
       "<table border=\"1\" class=\"dataframe\">\n",
       "  <thead>\n",
       "    <tr style=\"text-align: right;\">\n",
       "      <th></th>\n",
       "      <th>period</th>\n",
       "      <th>value</th>\n",
       "    </tr>\n",
       "  </thead>\n",
       "  <tbody>\n",
       "    <tr>\n",
       "      <th>1584</th>\n",
       "      <td>31 Jan 2009 00:00:00</td>\n",
       "      <td>5.16</td>\n",
       "    </tr>\n",
       "    <tr>\n",
       "      <th>1585</th>\n",
       "      <td>28 Feb 2009 00:00:00</td>\n",
       "      <td>6.84</td>\n",
       "    </tr>\n",
       "    <tr>\n",
       "      <th>1586</th>\n",
       "      <td>31 Mar 2009 00:00:00</td>\n",
       "      <td>5.61</td>\n",
       "    </tr>\n",
       "    <tr>\n",
       "      <th>1587</th>\n",
       "      <td>30 Apr 2009 00:00:00</td>\n",
       "      <td>6.20</td>\n",
       "    </tr>\n",
       "    <tr>\n",
       "      <th>1588</th>\n",
       "      <td>31 May 2009 00:00:00</td>\n",
       "      <td>5.58</td>\n",
       "    </tr>\n",
       "    <tr>\n",
       "      <th>...</th>\n",
       "      <td>...</td>\n",
       "      <td>...</td>\n",
       "    </tr>\n",
       "    <tr>\n",
       "      <th>27950</th>\n",
       "      <td>31 Aug 2021 00:00:00</td>\n",
       "      <td>6.30</td>\n",
       "    </tr>\n",
       "    <tr>\n",
       "      <th>28138</th>\n",
       "      <td>30 Sep 2021 00:00:00</td>\n",
       "      <td>6.60</td>\n",
       "    </tr>\n",
       "    <tr>\n",
       "      <th>28326</th>\n",
       "      <td>31 Oct 2021 00:00:00</td>\n",
       "      <td>6.50</td>\n",
       "    </tr>\n",
       "    <tr>\n",
       "      <th>28514</th>\n",
       "      <td>30 Nov 2021 00:00:00</td>\n",
       "      <td>6.30</td>\n",
       "    </tr>\n",
       "    <tr>\n",
       "      <th>28702</th>\n",
       "      <td>31 Dec 2021 00:00:00</td>\n",
       "      <td>6.10</td>\n",
       "    </tr>\n",
       "  </tbody>\n",
       "</table>\n",
       "<p>155 rows × 2 columns</p>\n",
       "</div>"
      ],
      "text/plain": [
       "                     period  value\n",
       "1584   31 Jan 2009 00:00:00   5.16\n",
       "1585   28 Feb 2009 00:00:00   6.84\n",
       "1586   31 Mar 2009 00:00:00   5.61\n",
       "1587   30 Apr 2009 00:00:00   6.20\n",
       "1588   31 May 2009 00:00:00   5.58\n",
       "...                     ...    ...\n",
       "27950  31 Aug 2021 00:00:00   6.30\n",
       "28138  30 Sep 2021 00:00:00   6.60\n",
       "28326  31 Oct 2021 00:00:00   6.50\n",
       "28514  30 Nov 2021 00:00:00   6.30\n",
       "28702  31 Dec 2021 00:00:00   6.10\n",
       "\n",
       "[155 rows x 2 columns]"
      ]
     },
     "execution_count": 12,
     "metadata": {},
     "output_type": "execute_result"
    }
   ],
   "source": [
    "new_df"
   ]
  },
  {
   "cell_type": "markdown",
   "id": "cf48e019",
   "metadata": {},
   "source": [
    "Создадим из него тестовый датафрейм, с которым будем производить все преобразования:"
   ]
  },
  {
   "cell_type": "code",
   "execution_count": 13,
   "id": "d4ddfd58",
   "metadata": {},
   "outputs": [],
   "source": [
    "stat_df = new_df"
   ]
  },
  {
   "cell_type": "code",
   "execution_count": 14,
   "id": "421566c7",
   "metadata": {},
   "outputs": [
    {
     "data": {
      "text/html": [
       "<div>\n",
       "<style scoped>\n",
       "    .dataframe tbody tr th:only-of-type {\n",
       "        vertical-align: middle;\n",
       "    }\n",
       "\n",
       "    .dataframe tbody tr th {\n",
       "        vertical-align: top;\n",
       "    }\n",
       "\n",
       "    .dataframe thead th {\n",
       "        text-align: right;\n",
       "    }\n",
       "</style>\n",
       "<table border=\"1\" class=\"dataframe\">\n",
       "  <thead>\n",
       "    <tr style=\"text-align: right;\">\n",
       "      <th></th>\n",
       "      <th>period</th>\n",
       "      <th>value</th>\n",
       "    </tr>\n",
       "  </thead>\n",
       "  <tbody>\n",
       "    <tr>\n",
       "      <th>1584</th>\n",
       "      <td>31 Jan 2009 00:00:00</td>\n",
       "      <td>5.16</td>\n",
       "    </tr>\n",
       "    <tr>\n",
       "      <th>1585</th>\n",
       "      <td>28 Feb 2009 00:00:00</td>\n",
       "      <td>6.84</td>\n",
       "    </tr>\n",
       "    <tr>\n",
       "      <th>1586</th>\n",
       "      <td>31 Mar 2009 00:00:00</td>\n",
       "      <td>5.61</td>\n",
       "    </tr>\n",
       "    <tr>\n",
       "      <th>1587</th>\n",
       "      <td>30 Apr 2009 00:00:00</td>\n",
       "      <td>6.20</td>\n",
       "    </tr>\n",
       "    <tr>\n",
       "      <th>1588</th>\n",
       "      <td>31 May 2009 00:00:00</td>\n",
       "      <td>5.58</td>\n",
       "    </tr>\n",
       "    <tr>\n",
       "      <th>...</th>\n",
       "      <td>...</td>\n",
       "      <td>...</td>\n",
       "    </tr>\n",
       "    <tr>\n",
       "      <th>27950</th>\n",
       "      <td>31 Aug 2021 00:00:00</td>\n",
       "      <td>6.30</td>\n",
       "    </tr>\n",
       "    <tr>\n",
       "      <th>28138</th>\n",
       "      <td>30 Sep 2021 00:00:00</td>\n",
       "      <td>6.60</td>\n",
       "    </tr>\n",
       "    <tr>\n",
       "      <th>28326</th>\n",
       "      <td>31 Oct 2021 00:00:00</td>\n",
       "      <td>6.50</td>\n",
       "    </tr>\n",
       "    <tr>\n",
       "      <th>28514</th>\n",
       "      <td>30 Nov 2021 00:00:00</td>\n",
       "      <td>6.30</td>\n",
       "    </tr>\n",
       "    <tr>\n",
       "      <th>28702</th>\n",
       "      <td>31 Dec 2021 00:00:00</td>\n",
       "      <td>6.10</td>\n",
       "    </tr>\n",
       "  </tbody>\n",
       "</table>\n",
       "<p>155 rows × 2 columns</p>\n",
       "</div>"
      ],
      "text/plain": [
       "                     period  value\n",
       "1584   31 Jan 2009 00:00:00   5.16\n",
       "1585   28 Feb 2009 00:00:00   6.84\n",
       "1586   31 Mar 2009 00:00:00   5.61\n",
       "1587   30 Apr 2009 00:00:00   6.20\n",
       "1588   31 May 2009 00:00:00   5.58\n",
       "...                     ...    ...\n",
       "27950  31 Aug 2021 00:00:00   6.30\n",
       "28138  30 Sep 2021 00:00:00   6.60\n",
       "28326  31 Oct 2021 00:00:00   6.50\n",
       "28514  30 Nov 2021 00:00:00   6.30\n",
       "28702  31 Dec 2021 00:00:00   6.10\n",
       "\n",
       "[155 rows x 2 columns]"
      ]
     },
     "execution_count": 14,
     "metadata": {},
     "output_type": "execute_result"
    }
   ],
   "source": [
    "stat_df"
   ]
  },
  {
   "cell_type": "markdown",
   "id": "ef6b25d2",
   "metadata": {},
   "source": [
    "Импортируем библиотеку NumPy, т.к. там имеется функция логарифмирования"
   ]
  },
  {
   "cell_type": "code",
   "execution_count": 15,
   "id": "8f2cd766",
   "metadata": {},
   "outputs": [],
   "source": [
    "import numpy as np"
   ]
  },
  {
   "cell_type": "markdown",
   "id": "40ee2ee7",
   "metadata": {},
   "source": [
    "Преобразования используются для стабилизации непостоянной дисперсии ряда. Общие методы преобразования включают степенное преобразование, квадратный корень и логарифмическое преобразование. В нашем случае используем логарифмирование"
   ]
  },
  {
   "cell_type": "code",
   "execution_count": 16,
   "id": "f0120109",
   "metadata": {},
   "outputs": [],
   "source": [
    "stat_df['value_log'] = np.log(stat_df['value'])"
   ]
  },
  {
   "cell_type": "code",
   "execution_count": 17,
   "id": "8ed7cc4e",
   "metadata": {},
   "outputs": [
    {
     "data": {
      "text/html": [
       "<div>\n",
       "<style scoped>\n",
       "    .dataframe tbody tr th:only-of-type {\n",
       "        vertical-align: middle;\n",
       "    }\n",
       "\n",
       "    .dataframe tbody tr th {\n",
       "        vertical-align: top;\n",
       "    }\n",
       "\n",
       "    .dataframe thead th {\n",
       "        text-align: right;\n",
       "    }\n",
       "</style>\n",
       "<table border=\"1\" class=\"dataframe\">\n",
       "  <thead>\n",
       "    <tr style=\"text-align: right;\">\n",
       "      <th></th>\n",
       "      <th>period</th>\n",
       "      <th>value</th>\n",
       "      <th>value_log</th>\n",
       "    </tr>\n",
       "  </thead>\n",
       "  <tbody>\n",
       "    <tr>\n",
       "      <th>1584</th>\n",
       "      <td>31 Jan 2009 00:00:00</td>\n",
       "      <td>5.16</td>\n",
       "      <td>1.640937</td>\n",
       "    </tr>\n",
       "    <tr>\n",
       "      <th>1585</th>\n",
       "      <td>28 Feb 2009 00:00:00</td>\n",
       "      <td>6.84</td>\n",
       "      <td>1.922788</td>\n",
       "    </tr>\n",
       "    <tr>\n",
       "      <th>1586</th>\n",
       "      <td>31 Mar 2009 00:00:00</td>\n",
       "      <td>5.61</td>\n",
       "      <td>1.724551</td>\n",
       "    </tr>\n",
       "    <tr>\n",
       "      <th>1587</th>\n",
       "      <td>30 Apr 2009 00:00:00</td>\n",
       "      <td>6.20</td>\n",
       "      <td>1.824549</td>\n",
       "    </tr>\n",
       "    <tr>\n",
       "      <th>1588</th>\n",
       "      <td>31 May 2009 00:00:00</td>\n",
       "      <td>5.58</td>\n",
       "      <td>1.719189</td>\n",
       "    </tr>\n",
       "    <tr>\n",
       "      <th>...</th>\n",
       "      <td>...</td>\n",
       "      <td>...</td>\n",
       "      <td>...</td>\n",
       "    </tr>\n",
       "    <tr>\n",
       "      <th>27950</th>\n",
       "      <td>31 Aug 2021 00:00:00</td>\n",
       "      <td>6.30</td>\n",
       "      <td>1.840550</td>\n",
       "    </tr>\n",
       "    <tr>\n",
       "      <th>28138</th>\n",
       "      <td>30 Sep 2021 00:00:00</td>\n",
       "      <td>6.60</td>\n",
       "      <td>1.887070</td>\n",
       "    </tr>\n",
       "    <tr>\n",
       "      <th>28326</th>\n",
       "      <td>31 Oct 2021 00:00:00</td>\n",
       "      <td>6.50</td>\n",
       "      <td>1.871802</td>\n",
       "    </tr>\n",
       "    <tr>\n",
       "      <th>28514</th>\n",
       "      <td>30 Nov 2021 00:00:00</td>\n",
       "      <td>6.30</td>\n",
       "      <td>1.840550</td>\n",
       "    </tr>\n",
       "    <tr>\n",
       "      <th>28702</th>\n",
       "      <td>31 Dec 2021 00:00:00</td>\n",
       "      <td>6.10</td>\n",
       "      <td>1.808289</td>\n",
       "    </tr>\n",
       "  </tbody>\n",
       "</table>\n",
       "<p>155 rows × 3 columns</p>\n",
       "</div>"
      ],
      "text/plain": [
       "                     period  value  value_log\n",
       "1584   31 Jan 2009 00:00:00   5.16   1.640937\n",
       "1585   28 Feb 2009 00:00:00   6.84   1.922788\n",
       "1586   31 Mar 2009 00:00:00   5.61   1.724551\n",
       "1587   30 Apr 2009 00:00:00   6.20   1.824549\n",
       "1588   31 May 2009 00:00:00   5.58   1.719189\n",
       "...                     ...    ...        ...\n",
       "27950  31 Aug 2021 00:00:00   6.30   1.840550\n",
       "28138  30 Sep 2021 00:00:00   6.60   1.887070\n",
       "28326  31 Oct 2021 00:00:00   6.50   1.871802\n",
       "28514  30 Nov 2021 00:00:00   6.30   1.840550\n",
       "28702  31 Dec 2021 00:00:00   6.10   1.808289\n",
       "\n",
       "[155 rows x 3 columns]"
      ]
     },
     "execution_count": 17,
     "metadata": {},
     "output_type": "execute_result"
    }
   ],
   "source": [
    "stat_df"
   ]
  },
  {
   "cell_type": "markdown",
   "id": "4b87c3df",
   "metadata": {},
   "source": [
    "Для того, чтобы избавиться от меняющегося среднего выполним разницу последовательных членов в ряду"
   ]
  },
  {
   "cell_type": "code",
   "execution_count": 18,
   "id": "79f962e9",
   "metadata": {},
   "outputs": [],
   "source": [
    "stat_df['value_diff'] = stat_df['value_log'] - stat_df['value_log'].shift(1)"
   ]
  },
  {
   "cell_type": "markdown",
   "id": "7526d5bb",
   "metadata": {},
   "source": [
    "При выполнении такого преобразования первый член ряда будет неопределён. Проверим ряд на наличие пустого значения и убедимся в этом"
   ]
  },
  {
   "cell_type": "code",
   "execution_count": 19,
   "id": "4336d7f8",
   "metadata": {},
   "outputs": [
    {
     "data": {
      "text/plain": [
       "period        0\n",
       "value         0\n",
       "value_log     0\n",
       "value_diff    1\n",
       "dtype: int64"
      ]
     },
     "execution_count": 19,
     "metadata": {},
     "output_type": "execute_result"
    }
   ],
   "source": [
    "stat_df.isna().sum()"
   ]
  },
  {
   "cell_type": "markdown",
   "id": "db61b3b3",
   "metadata": {},
   "source": [
    "Видим одно пустое значение. Удалим его из ряда для дальнейшей работы методом notnull"
   ]
  },
  {
   "cell_type": "code",
   "execution_count": 20,
   "id": "47640c1c",
   "metadata": {},
   "outputs": [],
   "source": [
    "stat_df = stat_df[pd.notnull(stat_df['value_diff'])]"
   ]
  },
  {
   "cell_type": "code",
   "execution_count": 21,
   "id": "78917a71",
   "metadata": {},
   "outputs": [
    {
     "data": {
      "image/png": "[encoded data removed]",
      "text/plain": [
       "<Figure size 864x576 with 1 Axes>"
      ]
     },
     "metadata": {
      "needs_background": "light"
     },
     "output_type": "display_data"
    }
   ],
   "source": [
    "fig, ax = plt.subplots()\n",
    "\n",
    "x = stat_df['period']\n",
    "y = stat_df['value_diff']\n",
    "\n",
    "ax.plot(x, y, color = 'r', linewidth = 2)\n",
    "\n",
    "#  Исправление формата подписей оси x\n",
    "ax.xaxis.set_major_locator(ticker.MultipleLocator(30))\n",
    "ax.xaxis.set_minor_locator(ticker.MultipleLocator(1))\n",
    "\n",
    "\n",
    "fig.set_figwidth(12)\n",
    "fig.set_figheight(8)\n",
    "\n",
    "plt.show()"
   ]
  },
  {
   "cell_type": "code",
   "execution_count": 22,
   "id": "a0c73dc9",
   "metadata": {},
   "outputs": [
    {
     "name": "stdout",
     "output_type": "stream",
     "text": [
      "adf:  -4.059069636219816\n",
      "p-value:  0.0011309083917136332\n",
      "Critical values:  {'1%': -3.477261624048995, '5%': -2.8821181874544233, '10%': -2.5777431104939494}\n",
      "ряд стационарен\n"
     ]
    }
   ],
   "source": [
    "test = sm.tsa.stattools.adfuller(stat_df['value_diff'])\n",
    "print('adf: ', test[0]) \n",
    "print('p-value: ', test[1])\n",
    "print('Critical values: ', test[4])\n",
    "if test[0]> test[4]['5%']: \n",
    "    print('ряд не стационарен')\n",
    "else:\n",
    "    print('ряд стационарен')"
   ]
  },
  {
   "cell_type": "markdown",
   "id": "c69cf389",
   "metadata": {},
   "source": [
    "Получили стационарный временной ряд."
   ]
  },
  {
   "cell_type": "markdown",
   "id": "c1a0d758",
   "metadata": {},
   "source": [
    "### Второй метод"
   ]
  },
  {
   "cell_type": "markdown",
   "id": "05256561",
   "metadata": {},
   "source": [
    "Во втором методе использовал только первые разности ряда (т.е. получил просто интегрированный ряд первого порядка)"
   ]
  },
  {
   "cell_type": "markdown",
   "id": "ed0e4e58",
   "metadata": {},
   "source": [
    "Заново создадим new_df"
   ]
  },
  {
   "cell_type": "code",
   "execution_count": 23,
   "id": "9c3b3989",
   "metadata": {},
   "outputs": [],
   "source": [
    "new_df = orel_df.drop([\"territory\", \"id_indicator\", \"territory.ccube.0\", \"territory.ccube.1\", \"territory.ccube.2\", \"territory.ccube.attr.0\", \"territory.ccube.3\", \"territory.ccube.4\"], axis=1)"
   ]
  },
  {
   "cell_type": "code",
   "execution_count": 24,
   "id": "46e6baf8",
   "metadata": {},
   "outputs": [],
   "source": [
    "stat_df2 = new_df"
   ]
  },
  {
   "cell_type": "code",
   "execution_count": 25,
   "id": "fdf25230",
   "metadata": {},
   "outputs": [
    {
     "data": {
      "text/html": [
       "<div>\n",
       "<style scoped>\n",
       "    .dataframe tbody tr th:only-of-type {\n",
       "        vertical-align: middle;\n",
       "    }\n",
       "\n",
       "    .dataframe tbody tr th {\n",
       "        vertical-align: top;\n",
       "    }\n",
       "\n",
       "    .dataframe thead th {\n",
       "        text-align: right;\n",
       "    }\n",
       "</style>\n",
       "<table border=\"1\" class=\"dataframe\">\n",
       "  <thead>\n",
       "    <tr style=\"text-align: right;\">\n",
       "      <th></th>\n",
       "      <th>period</th>\n",
       "      <th>value</th>\n",
       "    </tr>\n",
       "  </thead>\n",
       "  <tbody>\n",
       "    <tr>\n",
       "      <th>1584</th>\n",
       "      <td>31 Jan 2009 00:00:00</td>\n",
       "      <td>5.16</td>\n",
       "    </tr>\n",
       "    <tr>\n",
       "      <th>1585</th>\n",
       "      <td>28 Feb 2009 00:00:00</td>\n",
       "      <td>6.84</td>\n",
       "    </tr>\n",
       "    <tr>\n",
       "      <th>1586</th>\n",
       "      <td>31 Mar 2009 00:00:00</td>\n",
       "      <td>5.61</td>\n",
       "    </tr>\n",
       "    <tr>\n",
       "      <th>1587</th>\n",
       "      <td>30 Apr 2009 00:00:00</td>\n",
       "      <td>6.20</td>\n",
       "    </tr>\n",
       "    <tr>\n",
       "      <th>1588</th>\n",
       "      <td>31 May 2009 00:00:00</td>\n",
       "      <td>5.58</td>\n",
       "    </tr>\n",
       "    <tr>\n",
       "      <th>...</th>\n",
       "      <td>...</td>\n",
       "      <td>...</td>\n",
       "    </tr>\n",
       "    <tr>\n",
       "      <th>27950</th>\n",
       "      <td>31 Aug 2021 00:00:00</td>\n",
       "      <td>6.30</td>\n",
       "    </tr>\n",
       "    <tr>\n",
       "      <th>28138</th>\n",
       "      <td>30 Sep 2021 00:00:00</td>\n",
       "      <td>6.60</td>\n",
       "    </tr>\n",
       "    <tr>\n",
       "      <th>28326</th>\n",
       "      <td>31 Oct 2021 00:00:00</td>\n",
       "      <td>6.50</td>\n",
       "    </tr>\n",
       "    <tr>\n",
       "      <th>28514</th>\n",
       "      <td>30 Nov 2021 00:00:00</td>\n",
       "      <td>6.30</td>\n",
       "    </tr>\n",
       "    <tr>\n",
       "      <th>28702</th>\n",
       "      <td>31 Dec 2021 00:00:00</td>\n",
       "      <td>6.10</td>\n",
       "    </tr>\n",
       "  </tbody>\n",
       "</table>\n",
       "<p>155 rows × 2 columns</p>\n",
       "</div>"
      ],
      "text/plain": [
       "                     period  value\n",
       "1584   31 Jan 2009 00:00:00   5.16\n",
       "1585   28 Feb 2009 00:00:00   6.84\n",
       "1586   31 Mar 2009 00:00:00   5.61\n",
       "1587   30 Apr 2009 00:00:00   6.20\n",
       "1588   31 May 2009 00:00:00   5.58\n",
       "...                     ...    ...\n",
       "27950  31 Aug 2021 00:00:00   6.30\n",
       "28138  30 Sep 2021 00:00:00   6.60\n",
       "28326  31 Oct 2021 00:00:00   6.50\n",
       "28514  30 Nov 2021 00:00:00   6.30\n",
       "28702  31 Dec 2021 00:00:00   6.10\n",
       "\n",
       "[155 rows x 2 columns]"
      ]
     },
     "execution_count": 25,
     "metadata": {},
     "output_type": "execute_result"
    }
   ],
   "source": [
    "stat_df2"
   ]
  },
  {
   "cell_type": "code",
   "execution_count": 26,
   "id": "60c445bf",
   "metadata": {},
   "outputs": [],
   "source": [
    "stat_df2['value'] = new_df['value'].diff(periods=1).dropna()"
   ]
  },
  {
   "cell_type": "markdown",
   "id": "dcfcdcbe",
   "metadata": {},
   "source": [
    "В коде выше функция diff() вычисляет разность исходного ряда с рядом с заданным смещением периода. Период смещения передается как параметр period."
   ]
  },
  {
   "cell_type": "code",
   "execution_count": 27,
   "id": "580155ec",
   "metadata": {},
   "outputs": [
    {
     "data": {
      "text/html": [
       "<div>\n",
       "<style scoped>\n",
       "    .dataframe tbody tr th:only-of-type {\n",
       "        vertical-align: middle;\n",
       "    }\n",
       "\n",
       "    .dataframe tbody tr th {\n",
       "        vertical-align: top;\n",
       "    }\n",
       "\n",
       "    .dataframe thead th {\n",
       "        text-align: right;\n",
       "    }\n",
       "</style>\n",
       "<table border=\"1\" class=\"dataframe\">\n",
       "  <thead>\n",
       "    <tr style=\"text-align: right;\">\n",
       "      <th></th>\n",
       "      <th>period</th>\n",
       "      <th>value</th>\n",
       "    </tr>\n",
       "  </thead>\n",
       "  <tbody>\n",
       "    <tr>\n",
       "      <th>1584</th>\n",
       "      <td>31 Jan 2009 00:00:00</td>\n",
       "      <td>NaN</td>\n",
       "    </tr>\n",
       "    <tr>\n",
       "      <th>1585</th>\n",
       "      <td>28 Feb 2009 00:00:00</td>\n",
       "      <td>1.68</td>\n",
       "    </tr>\n",
       "    <tr>\n",
       "      <th>1586</th>\n",
       "      <td>31 Mar 2009 00:00:00</td>\n",
       "      <td>-1.23</td>\n",
       "    </tr>\n",
       "    <tr>\n",
       "      <th>1587</th>\n",
       "      <td>30 Apr 2009 00:00:00</td>\n",
       "      <td>0.59</td>\n",
       "    </tr>\n",
       "    <tr>\n",
       "      <th>1588</th>\n",
       "      <td>31 May 2009 00:00:00</td>\n",
       "      <td>-0.62</td>\n",
       "    </tr>\n",
       "    <tr>\n",
       "      <th>...</th>\n",
       "      <td>...</td>\n",
       "      <td>...</td>\n",
       "    </tr>\n",
       "    <tr>\n",
       "      <th>27950</th>\n",
       "      <td>31 Aug 2021 00:00:00</td>\n",
       "      <td>0.60</td>\n",
       "    </tr>\n",
       "    <tr>\n",
       "      <th>28138</th>\n",
       "      <td>30 Sep 2021 00:00:00</td>\n",
       "      <td>0.30</td>\n",
       "    </tr>\n",
       "    <tr>\n",
       "      <th>28326</th>\n",
       "      <td>31 Oct 2021 00:00:00</td>\n",
       "      <td>-0.10</td>\n",
       "    </tr>\n",
       "    <tr>\n",
       "      <th>28514</th>\n",
       "      <td>30 Nov 2021 00:00:00</td>\n",
       "      <td>-0.20</td>\n",
       "    </tr>\n",
       "    <tr>\n",
       "      <th>28702</th>\n",
       "      <td>31 Dec 2021 00:00:00</td>\n",
       "      <td>-0.20</td>\n",
       "    </tr>\n",
       "  </tbody>\n",
       "</table>\n",
       "<p>155 rows × 2 columns</p>\n",
       "</div>"
      ],
      "text/plain": [
       "                     period  value\n",
       "1584   31 Jan 2009 00:00:00    NaN\n",
       "1585   28 Feb 2009 00:00:00   1.68\n",
       "1586   31 Mar 2009 00:00:00  -1.23\n",
       "1587   30 Apr 2009 00:00:00   0.59\n",
       "1588   31 May 2009 00:00:00  -0.62\n",
       "...                     ...    ...\n",
       "27950  31 Aug 2021 00:00:00   0.60\n",
       "28138  30 Sep 2021 00:00:00   0.30\n",
       "28326  31 Oct 2021 00:00:00  -0.10\n",
       "28514  30 Nov 2021 00:00:00  -0.20\n",
       "28702  31 Dec 2021 00:00:00  -0.20\n",
       "\n",
       "[155 rows x 2 columns]"
      ]
     },
     "execution_count": 27,
     "metadata": {},
     "output_type": "execute_result"
    }
   ],
   "source": [
    "stat_df2"
   ]
  },
  {
   "cell_type": "code",
   "execution_count": 28,
   "id": "a113f591",
   "metadata": {},
   "outputs": [],
   "source": [
    "stat_df2 = stat_df2[pd.notnull(stat_df2['value'])]"
   ]
  },
  {
   "cell_type": "markdown",
   "id": "2ec2a493",
   "metadata": {},
   "source": [
    "Т.к. в разности первое значение получиться неопределенным, то нам надо избавиться от него для этого и используется метод notnull()."
   ]
  },
  {
   "cell_type": "code",
   "execution_count": 29,
   "id": "50a42b29",
   "metadata": {},
   "outputs": [
    {
     "name": "stdout",
     "output_type": "stream",
     "text": [
      "adf:  -3.9300152040897878\n",
      "p-value:  0.0018247266254209523\n",
      "Critical values:  {'1%': -3.477261624048995, '5%': -2.8821181874544233, '10%': -2.5777431104939494}\n",
      "ряд стационарен\n"
     ]
    }
   ],
   "source": [
    "test = sm.tsa.stattools.adfuller(stat_df2['value'])\n",
    "print('adf: ', test[0]) \n",
    "print('p-value: ', test[1])\n",
    "print('Critical values: ', test[4])\n",
    "if test[0]> test[4]['5%']: \n",
    "    print('ряд не стационарен')\n",
    "else:\n",
    "    print('ряд стационарен')"
   ]
  },
  {
   "cell_type": "markdown",
   "id": "85791d3c",
   "metadata": {},
   "source": [
    "## Построение модели временного ряда"
   ]
  },
  {
   "cell_type": "code",
   "execution_count": 32,
   "id": "0d03d0c3",
   "metadata": {},
   "outputs": [
    {
     "data": {
      "image/png": "[encoded data removed]",
      "text/plain": [
       "<Figure size 864x576 with 2 Axes>"
      ]
     },
     "metadata": {
      "needs_background": "light"
     },
     "output_type": "display_data"
    }
   ],
   "source": [
    "fig = plt.figure(figsize=(12,8))\n",
    "ax1 = fig.add_subplot(211)\n",
    "fig = sm.graphics.tsa.plot_acf(stat_df2['value'].values.squeeze(), lags=25, ax=ax1)\n",
    "ax2 = fig.add_subplot(212)\n",
    "fig = sm.graphics.tsa.plot_pacf(stat_df2['value'], lags=25, ax=ax2)"
   ]
  },
  {
   "cell_type": "markdown",
   "id": "263b34a1",
   "metadata": {},
   "source": [
    "Подбор (d,p,q) для модели ARIMA: https://edu.mmcs.sfedu.ru/pluginfile.php/24419/mod_resource/content/2/14%20%D0%9F%D1%80%D0%BE%D0%B3%D0%BD%D0%BE%D0%B7%D0%B8%D1%80%D0%BE%D0%B2%D0%B0%D0%BD%D0%B8%D0%B5%20%D0%B2%D1%80%D0%B5%D0%BC%D0%B5%D0%BD%D0%BD%D1%8B%D1%85%20%D1%80%D1%8F%D0%B4%D0%BE%D0%B2.pdf"
   ]
  },
  {
   "cell_type": "code",
   "execution_count": 131,
   "id": "dcf64e9f",
   "metadata": {},
   "outputs": [],
   "source": [
    "data_model = new_df['value'].dropna()"
   ]
  },
  {
   "cell_type": "code",
   "execution_count": 132,
   "id": "ce60dbf4",
   "metadata": {},
   "outputs": [],
   "source": [
    "data_model = data_model.reset_index(drop=True)"
   ]
  },
  {
   "cell_type": "code",
   "execution_count": 133,
   "id": "b0014bf1",
   "metadata": {},
   "outputs": [],
   "source": [
    "data_model_test = data_model.iloc[:140]"
   ]
  },
  {
   "cell_type": "code",
   "execution_count": 134,
   "id": "48eff18f",
   "metadata": {},
   "outputs": [
    {
     "data": {
      "text/plain": [
       "0      5.16\n",
       "1      6.84\n",
       "2      5.61\n",
       "3      6.20\n",
       "4      5.58\n",
       "       ... \n",
       "135    2.90\n",
       "136    2.50\n",
       "137    2.90\n",
       "138    3.50\n",
       "139    4.40\n",
       "Name: value, Length: 140, dtype: float64"
      ]
     },
     "execution_count": 134,
     "metadata": {},
     "output_type": "execute_result"
    }
   ],
   "source": [
    "data_model_test"
   ]
  },
  {
   "cell_type": "code",
   "execution_count": 135,
   "id": "7596bde1",
   "metadata": {},
   "outputs": [
    {
     "name": "stderr",
     "output_type": "stream",
     "text": [
      "C:\\ProgramData\\Anaconda3\\lib\\site-packages\\statsmodels\\tsa\\arima_model.py:472: FutureWarning: \n",
      "statsmodels.tsa.arima_model.ARMA and statsmodels.tsa.arima_model.ARIMA have\n",
      "been deprecated in favor of statsmodels.tsa.arima.model.ARIMA (note the .\n",
      "between arima and model) and\n",
      "statsmodels.tsa.SARIMAX. These will be removed after the 0.12 release.\n",
      "\n",
      "statsmodels.tsa.arima.model.ARIMA makes use of the statespace framework and\n",
      "is both well tested and maintained.\n",
      "\n",
      "To silence this warning and continue using ARMA and ARIMA until they are\n",
      "removed, use:\n",
      "\n",
      "import warnings\n",
      "warnings.filterwarnings('ignore', 'statsmodels.tsa.arima_model.ARMA',\n",
      "                        FutureWarning)\n",
      "warnings.filterwarnings('ignore', 'statsmodels.tsa.arima_model.ARIMA',\n",
      "                        FutureWarning)\n",
      "\n",
      "  warnings.warn(ARIMA_DEPRECATION_WARN, FutureWarning)\n",
      "C:\\ProgramData\\Anaconda3\\lib\\site-packages\\statsmodels\\tsa\\arima_model.py:472: FutureWarning: \n",
      "statsmodels.tsa.arima_model.ARMA and statsmodels.tsa.arima_model.ARIMA have\n",
      "been deprecated in favor of statsmodels.tsa.arima.model.ARIMA (note the .\n",
      "between arima and model) and\n",
      "statsmodels.tsa.SARIMAX. These will be removed after the 0.12 release.\n",
      "\n",
      "statsmodels.tsa.arima.model.ARIMA makes use of the statespace framework and\n",
      "is both well tested and maintained.\n",
      "\n",
      "To silence this warning and continue using ARMA and ARIMA until they are\n",
      "removed, use:\n",
      "\n",
      "import warnings\n",
      "warnings.filterwarnings('ignore', 'statsmodels.tsa.arima_model.ARMA',\n",
      "                        FutureWarning)\n",
      "warnings.filterwarnings('ignore', 'statsmodels.tsa.arima_model.ARIMA',\n",
      "                        FutureWarning)\n",
      "\n",
      "  warnings.warn(ARIMA_DEPRECATION_WARN, FutureWarning)\n"
     ]
    }
   ],
   "source": [
    "model = sm.tsa.ARIMA(data_model_test, order=(2,1,1)).fit(full_output=False, disp=0)"
   ]
  },
  {
   "cell_type": "code",
   "execution_count": 136,
   "id": "7d0b9fa4",
   "metadata": {},
   "outputs": [
    {
     "name": "stdout",
     "output_type": "stream",
     "text": [
      "                             ARIMA Model Results                              \n",
      "==============================================================================\n",
      "Dep. Variable:                D.value   No. Observations:                  139\n",
      "Model:                 ARIMA(2, 1, 1)   Log Likelihood                -219.101\n",
      "Method:                       css-mle   S.D. of innovations              1.157\n",
      "Date:                Sat, 26 Nov 2022   AIC                            448.202\n",
      "Time:                        13:29:28   BIC                            462.874\n",
      "Sample:                             1   HQIC                           454.164\n",
      "                                                                              \n",
      "=================================================================================\n",
      "                    coef    std err          z      P>|z|      [0.025      0.975]\n",
      "---------------------------------------------------------------------------------\n",
      "const            -0.0077        nan        nan        nan         nan         nan\n",
      "ar.L1.D.value    -0.9178        nan        nan        nan         nan         nan\n",
      "ar.L2.D.value     0.0822        nan        nan        nan         nan         nan\n",
      "ma.L1.D.value     0.9990        nan        nan        nan         nan         nan\n",
      "                                    Roots                                    \n",
      "=============================================================================\n",
      "                  Real          Imaginary           Modulus         Frequency\n",
      "-----------------------------------------------------------------------------\n",
      "AR.1           -1.0000           +0.0000j            1.0000            0.5000\n",
      "AR.2           12.1617           +0.0000j           12.1617            0.0000\n",
      "MA.1           -1.0010           +0.0000j            1.0010            0.5000\n",
      "-----------------------------------------------------------------------------\n"
     ]
    },
    {
     "name": "stderr",
     "output_type": "stream",
     "text": [
      "C:\\ProgramData\\Anaconda3\\lib\\site-packages\\statsmodels\\tsa\\arima_model.py:1521: RuntimeWarning: invalid value encountered in sqrt\n",
      "  return np.sqrt(np.diag(-inv(hess)))\n"
     ]
    }
   ],
   "source": [
    "print(model.summary())"
   ]
  },
  {
   "cell_type": "code",
   "execution_count": 137,
   "id": "d080edb5",
   "metadata": {},
   "outputs": [
    {
     "name": "stdout",
     "output_type": "stream",
     "text": [
      "        Q-stat       p-value\n",
      "0     0.000370  9.846444e-01\n",
      "1     0.010157  9.949346e-01\n",
      "2     0.836808  8.406442e-01\n",
      "3     4.518650  3.403418e-01\n",
      "4     6.386972  2.703642e-01\n",
      "5    48.339632  1.010642e-08\n",
      "6    50.635400  1.083665e-08\n",
      "7    53.153574  1.007115e-08\n",
      "8    53.396155  2.458453e-08\n",
      "9    53.495657  6.022954e-08\n",
      "10   53.664360  1.358966e-07\n",
      "11  148.132777  1.355856e-25\n",
      "12  148.425007  4.278334e-25\n",
      "13  148.442632  1.472304e-24\n",
      "14  150.150902  2.251631e-24\n",
      "15  154.212268  1.151216e-24\n",
      "16  155.769523  1.807649e-24\n",
      "17  195.317990  8.631999e-32\n",
      "18  197.060552  1.307106e-31\n",
      "19  199.006853  1.768876e-31\n",
      "20  199.071364  5.517370e-31\n",
      "21  199.364478  1.514792e-30\n",
      "22  199.414091  4.535694e-30\n",
      "23  287.231389  6.178759e-47\n",
      "24  287.667233  1.773923e-46\n",
      "25  287.841340  5.632538e-46\n",
      "26  288.800870  1.225112e-45\n",
      "27  291.748560  1.059916e-45\n",
      "28  293.083124  1.889990e-45\n",
      "29  327.915320  7.914531e-52\n",
      "30  329.719827  1.162226e-51\n",
      "31  331.343421  1.831681e-51\n",
      "32  331.689826  5.093375e-51\n",
      "33  332.079923  1.368500e-50\n",
      "34  332.088658  4.305745e-50\n",
      "35  404.488274  7.132285e-64\n",
      "36  404.757458  2.134464e-63\n",
      "37  404.784728  7.038667e-63\n",
      "38  405.156219  1.958400e-62\n",
      "39  407.709082  2.001439e-62\n"
     ]
    },
    {
     "name": "stderr",
     "output_type": "stream",
     "text": [
      "C:\\ProgramData\\Anaconda3\\lib\\site-packages\\statsmodels\\tsa\\stattools.py:657: FutureWarning: The default number of lags is changing from 40 tomin(int(10 * np.log10(nobs)), nobs - 1) after 0.12is released. Set the number of lags to an integer to  silence this warning.\n",
      "  warnings.warn(\n",
      "C:\\ProgramData\\Anaconda3\\lib\\site-packages\\statsmodels\\tsa\\stattools.py:667: FutureWarning: fft=True will become the default after the release of the 0.12 release of statsmodels. To suppress this warning, explicitly set fft=False.\n",
      "  warnings.warn(\n"
     ]
    }
   ],
   "source": [
    "q_test = sm.tsa.stattools.acf(model.resid, qstat=True)\n",
    "print(pd.DataFrame({'Q-stat':q_test[1], 'p-value':q_test[2]}))"
   ]
  },
  {
   "cell_type": "code",
   "execution_count": 140,
   "id": "a386bff7",
   "metadata": {},
   "outputs": [],
   "source": [
    "pred = model.predict(140,165, typ='levels')"
   ]
  },
  {
   "cell_type": "code",
   "execution_count": 141,
   "id": "bcdfa5c8",
   "metadata": {},
   "outputs": [
    {
     "data": {
      "text/plain": [
       "<AxesSubplot:>"
      ]
     },
     "execution_count": 141,
     "metadata": {},
     "output_type": "execute_result"
    },
    {
     "data": {
      "image/png": "[encoded data removed]",
      "text/plain": [
       "<Figure size 864x432 with 1 Axes>"
      ]
     },
     "metadata": {
      "needs_background": "light"
     },
     "output_type": "display_data"
    }
   ],
   "source": [
    "data_model.plot(figsize=(12,6))\n",
    "pred.plot(style='r--')"
   ]
  },
  {
   "cell_type": "code",
   "execution_count": null,
   "id": "cceb2fc8",
   "metadata": {},
   "outputs": [],
   "source": []
  }
 ],
 "metadata": {
  "kernelspec": {
   "display_name": "Python 3",
   "language": "python",
   "name": "python3"
  },
  "language_info": {
   "codemirror_mode": {
    "name": "ipython",
    "version": 3
   },
   "file_extension": ".py",
   "mimetype": "text/x-python",
   "name": "python",
   "nbconvert_exporter": "python",
   "pygments_lexer": "ipython3",
   "version": "3.8.8"
  }
 },
 "nbformat": 4,
 "nbformat_minor": 5
}
