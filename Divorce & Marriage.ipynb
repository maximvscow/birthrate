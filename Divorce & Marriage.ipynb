{
 "cells": [
  {
   "cell_type": "markdown",
   "metadata": {},
   "source": [
    "## Построение графика по количесту зарегистрированных разводов за месяц с 2009 по 2021 год\n"
   ]
  },
  {
   "cell_type": "markdown",
   "metadata": {},
   "source": [
    "Официальные данные РОССТАТ экспортированы с сайта: \n",
    "     'http://bi.gks.ru/biportal/contourbi.jsp?allsol=1&solution=Dashboard'"
   ]
  },
  {
   "cell_type": "markdown",
   "metadata": {},
   "source": [
    "Импорт библиотеки pandas (для работы с табличными данными) и pyplot для построения графика"
   ]
  },
  {
   "cell_type": "code",
   "execution_count": 1,
   "metadata": {},
   "outputs": [],
   "source": [
    "import pandas as pd\n",
    "import matplotlib.pyplot as plt\n",
    "#  Подключаем модуль управления тиками:\n",
    "import matplotlib.ticker as ticker"
   ]
  },
  {
   "cell_type": "markdown",
   "metadata": {},
   "source": [
    "Загрузка в датафрейм pandas из csv "
   ]
  },
  {
   "cell_type": "code",
   "execution_count": 2,
   "metadata": {},
   "outputs": [],
   "source": [
    "df = pd.read_csv('divorce_marriage.csv', encoding='ansi')"
   ]
  },
  {
   "cell_type": "markdown",
   "metadata": {},
   "source": [
    "Отображение датафрейма"
   ]
  },
  {
   "cell_type": "code",
   "execution_count": 3,
   "metadata": {},
   "outputs": [
    {
     "data": {
      "text/html": [
       "<div>\n",
       "<style scoped>\n",
       "    .dataframe tbody tr th:only-of-type {\n",
       "        vertical-align: middle;\n",
       "    }\n",
       "\n",
       "    .dataframe tbody tr th {\n",
       "        vertical-align: top;\n",
       "    }\n",
       "\n",
       "    .dataframe thead th {\n",
       "        text-align: right;\n",
       "    }\n",
       "</style>\n",
       "<table border=\"1\" class=\"dataframe\">\n",
       "  <thead>\n",
       "    <tr style=\"text-align: right;\">\n",
       "      <th></th>\n",
       "      <th>territory</th>\n",
       "      <th>id_indicator</th>\n",
       "      <th>period</th>\n",
       "      <th>territory.ccube.0</th>\n",
       "      <th>territory.ccube.1</th>\n",
       "      <th>territory.ccube.2</th>\n",
       "      <th>territory.ccube.attr.0</th>\n",
       "      <th>territory.ccube.3</th>\n",
       "      <th>territory.ccube.4</th>\n",
       "      <th>value</th>\n",
       "    </tr>\n",
       "  </thead>\n",
       "  <tbody>\n",
       "    <tr>\n",
       "      <td>0</td>\n",
       "      <td>643</td>\n",
       "      <td>814</td>\n",
       "      <td>31 Jan 2009 00:00:00</td>\n",
       "      <td>Российская Федерация</td>\n",
       "      <td>NaN</td>\n",
       "      <td>NaN</td>\n",
       "      <td>1</td>\n",
       "      <td>Российская Федерация</td>\n",
       "      <td>Российская Федерация</td>\n",
       "      <td>5.44</td>\n",
       "    </tr>\n",
       "    <tr>\n",
       "      <td>1</td>\n",
       "      <td>643</td>\n",
       "      <td>814</td>\n",
       "      <td>28 Feb 2009 00:00:00</td>\n",
       "      <td>Российская Федерация</td>\n",
       "      <td>NaN</td>\n",
       "      <td>NaN</td>\n",
       "      <td>1</td>\n",
       "      <td>Российская Федерация</td>\n",
       "      <td>Российская Федерация</td>\n",
       "      <td>6.39</td>\n",
       "    </tr>\n",
       "    <tr>\n",
       "      <td>2</td>\n",
       "      <td>643</td>\n",
       "      <td>814</td>\n",
       "      <td>31 Mar 2009 00:00:00</td>\n",
       "      <td>Российская Федерация</td>\n",
       "      <td>NaN</td>\n",
       "      <td>NaN</td>\n",
       "      <td>1</td>\n",
       "      <td>Российская Федерация</td>\n",
       "      <td>Российская Федерация</td>\n",
       "      <td>6.05</td>\n",
       "    </tr>\n",
       "    <tr>\n",
       "      <td>3</td>\n",
       "      <td>643</td>\n",
       "      <td>814</td>\n",
       "      <td>30 Apr 2009 00:00:00</td>\n",
       "      <td>Российская Федерация</td>\n",
       "      <td>NaN</td>\n",
       "      <td>NaN</td>\n",
       "      <td>1</td>\n",
       "      <td>Российская Федерация</td>\n",
       "      <td>Российская Федерация</td>\n",
       "      <td>6.65</td>\n",
       "    </tr>\n",
       "    <tr>\n",
       "      <td>4</td>\n",
       "      <td>643</td>\n",
       "      <td>814</td>\n",
       "      <td>31 May 2009 00:00:00</td>\n",
       "      <td>Российская Федерация</td>\n",
       "      <td>NaN</td>\n",
       "      <td>NaN</td>\n",
       "      <td>1</td>\n",
       "      <td>Российская Федерация</td>\n",
       "      <td>Российская Федерация</td>\n",
       "      <td>6.06</td>\n",
       "    </tr>\n",
       "    <tr>\n",
       "      <td>...</td>\n",
       "      <td>...</td>\n",
       "      <td>...</td>\n",
       "      <td>...</td>\n",
       "      <td>...</td>\n",
       "      <td>...</td>\n",
       "      <td>...</td>\n",
       "      <td>...</td>\n",
       "      <td>...</td>\n",
       "      <td>...</td>\n",
       "      <td>...</td>\n",
       "    </tr>\n",
       "    <tr>\n",
       "      <td>28873</td>\n",
       "      <td>10000000</td>\n",
       "      <td>816</td>\n",
       "      <td>31 Dec 2021 00:00:00</td>\n",
       "      <td>Российская Федерация</td>\n",
       "      <td>Дальневосточный федеральный округ</td>\n",
       "      <td>Амурская область</td>\n",
       "      <td>3</td>\n",
       "      <td>Амурская область</td>\n",
       "      <td>Амурская область</td>\n",
       "      <td>5.60</td>\n",
       "    </tr>\n",
       "    <tr>\n",
       "      <td>28874</td>\n",
       "      <td>44000000</td>\n",
       "      <td>816</td>\n",
       "      <td>31 Dec 2021 00:00:00</td>\n",
       "      <td>Российская Федерация</td>\n",
       "      <td>Дальневосточный федеральный округ</td>\n",
       "      <td>Магаданская область</td>\n",
       "      <td>3</td>\n",
       "      <td>Магаданская область</td>\n",
       "      <td>Магаданская область</td>\n",
       "      <td>5.90</td>\n",
       "    </tr>\n",
       "    <tr>\n",
       "      <td>28875</td>\n",
       "      <td>64000000</td>\n",
       "      <td>816</td>\n",
       "      <td>31 Dec 2021 00:00:00</td>\n",
       "      <td>Российская Федерация</td>\n",
       "      <td>Дальневосточный федеральный округ</td>\n",
       "      <td>Сахалинская область</td>\n",
       "      <td>3</td>\n",
       "      <td>Сахалинская область</td>\n",
       "      <td>Сахалинская область</td>\n",
       "      <td>5.00</td>\n",
       "    </tr>\n",
       "    <tr>\n",
       "      <td>28876</td>\n",
       "      <td>99000000</td>\n",
       "      <td>816</td>\n",
       "      <td>31 Dec 2021 00:00:00</td>\n",
       "      <td>Российская Федерация</td>\n",
       "      <td>Дальневосточный федеральный округ</td>\n",
       "      <td>Еврейская автономная область</td>\n",
       "      <td>3</td>\n",
       "      <td>Еврейская автономная область</td>\n",
       "      <td>Еврейская автономная область</td>\n",
       "      <td>6.40</td>\n",
       "    </tr>\n",
       "    <tr>\n",
       "      <td>28877</td>\n",
       "      <td>77000000</td>\n",
       "      <td>816</td>\n",
       "      <td>31 Dec 2021 00:00:00</td>\n",
       "      <td>Российская Федерация</td>\n",
       "      <td>Дальневосточный федеральный округ</td>\n",
       "      <td>Чукотский автономный округ</td>\n",
       "      <td>3</td>\n",
       "      <td>Чукотский автономный округ</td>\n",
       "      <td>Чукотский автономный округ</td>\n",
       "      <td>4.60</td>\n",
       "    </tr>\n",
       "  </tbody>\n",
       "</table>\n",
       "<p>28878 rows × 10 columns</p>\n",
       "</div>"
      ],
      "text/plain": [
       "       territory  id_indicator                period     territory.ccube.0  \\\n",
       "0            643           814  31 Jan 2009 00:00:00  Российская Федерация   \n",
       "1            643           814  28 Feb 2009 00:00:00  Российская Федерация   \n",
       "2            643           814  31 Mar 2009 00:00:00  Российская Федерация   \n",
       "3            643           814  30 Apr 2009 00:00:00  Российская Федерация   \n",
       "4            643           814  31 May 2009 00:00:00  Российская Федерация   \n",
       "...          ...           ...                   ...                   ...   \n",
       "28873   10000000           816  31 Dec 2021 00:00:00  Российская Федерация   \n",
       "28874   44000000           816  31 Dec 2021 00:00:00  Российская Федерация   \n",
       "28875   64000000           816  31 Dec 2021 00:00:00  Российская Федерация   \n",
       "28876   99000000           816  31 Dec 2021 00:00:00  Российская Федерация   \n",
       "28877   77000000           816  31 Dec 2021 00:00:00  Российская Федерация   \n",
       "\n",
       "                       territory.ccube.1             territory.ccube.2  \\\n",
       "0                                    NaN                           NaN   \n",
       "1                                    NaN                           NaN   \n",
       "2                                    NaN                           NaN   \n",
       "3                                    NaN                           NaN   \n",
       "4                                    NaN                           NaN   \n",
       "...                                  ...                           ...   \n",
       "28873  Дальневосточный федеральный округ              Амурская область   \n",
       "28874  Дальневосточный федеральный округ           Магаданская область   \n",
       "28875  Дальневосточный федеральный округ           Сахалинская область   \n",
       "28876  Дальневосточный федеральный округ  Еврейская автономная область   \n",
       "28877  Дальневосточный федеральный округ    Чукотский автономный округ   \n",
       "\n",
       "       territory.ccube.attr.0             territory.ccube.3  \\\n",
       "0                           1          Российская Федерация   \n",
       "1                           1          Российская Федерация   \n",
       "2                           1          Российская Федерация   \n",
       "3                           1          Российская Федерация   \n",
       "4                           1          Российская Федерация   \n",
       "...                       ...                           ...   \n",
       "28873                       3              Амурская область   \n",
       "28874                       3           Магаданская область   \n",
       "28875                       3           Сахалинская область   \n",
       "28876                       3  Еврейская автономная область   \n",
       "28877                       3    Чукотский автономный округ   \n",
       "\n",
       "                  territory.ccube.4  value  \n",
       "0              Российская Федерация   5.44  \n",
       "1              Российская Федерация   6.39  \n",
       "2              Российская Федерация   6.05  \n",
       "3              Российская Федерация   6.65  \n",
       "4              Российская Федерация   6.06  \n",
       "...                             ...    ...  \n",
       "28873              Амурская область   5.60  \n",
       "28874           Магаданская область   5.90  \n",
       "28875           Сахалинская область   5.00  \n",
       "28876  Еврейская автономная область   6.40  \n",
       "28877    Чукотский автономный округ   4.60  \n",
       "\n",
       "[28878 rows x 10 columns]"
      ]
     },
     "execution_count": 3,
     "metadata": {},
     "output_type": "execute_result"
    }
   ],
   "source": [
    "df"
   ]
  },
  {
   "cell_type": "markdown",
   "metadata": {},
   "source": [
    "    - id_indicator - это id показателя (браки = 814, разводы = 816)\n",
    "    - territory.ccube.(0-2) - это идентификатор уровня субъекта (0 - страна, 1 - федеральный округ, 2 - область или округ)\n",
    "*В связи с этим составим датафрейм, выбрав только нужный нам субъект и показатель*"
   ]
  },
  {
   "cell_type": "code",
   "execution_count": 68,
   "metadata": {},
   "outputs": [],
   "source": [
    "orel_df = df.loc[(df['territory.ccube.3'] == 'Орловская область') & (df['id_indicator'] == 814)]"
   ]
  },
  {
   "cell_type": "markdown",
   "metadata": {},
   "source": [
    "Отображение нового датафрейма по бракам для Орловской области после удаления лишних колонок"
   ]
  },
  {
   "cell_type": "code",
   "execution_count": 82,
   "metadata": {},
   "outputs": [],
   "source": [
    "new_df = orel_df.drop([\"territory\", \"id_indicator\", \"territory.ccube.0\", \"territory.ccube.1\", \"territory.ccube.2\", \"territory.ccube.attr.0\", \"territory.ccube.3\", \"territory.ccube.4\"], axis=1)"
   ]
  },
  {
   "cell_type": "code",
   "execution_count": 57,
   "metadata": {},
   "outputs": [
    {
     "data": {
      "text/html": [
       "<div>\n",
       "<style scoped>\n",
       "    .dataframe tbody tr th:only-of-type {\n",
       "        vertical-align: middle;\n",
       "    }\n",
       "\n",
       "    .dataframe tbody tr th {\n",
       "        vertical-align: top;\n",
       "    }\n",
       "\n",
       "    .dataframe thead th {\n",
       "        text-align: right;\n",
       "    }\n",
       "</style>\n",
       "<table border=\"1\" class=\"dataframe\">\n",
       "  <thead>\n",
       "    <tr style=\"text-align: right;\">\n",
       "      <th></th>\n",
       "      <th>period</th>\n",
       "      <th>value</th>\n",
       "    </tr>\n",
       "  </thead>\n",
       "  <tbody>\n",
       "    <tr>\n",
       "      <td>1584</td>\n",
       "      <td>31 Jan 2009 00:00:00</td>\n",
       "      <td>5.16</td>\n",
       "    </tr>\n",
       "    <tr>\n",
       "      <td>1585</td>\n",
       "      <td>28 Feb 2009 00:00:00</td>\n",
       "      <td>6.84</td>\n",
       "    </tr>\n",
       "    <tr>\n",
       "      <td>1586</td>\n",
       "      <td>31 Mar 2009 00:00:00</td>\n",
       "      <td>5.61</td>\n",
       "    </tr>\n",
       "    <tr>\n",
       "      <td>1587</td>\n",
       "      <td>30 Apr 2009 00:00:00</td>\n",
       "      <td>6.20</td>\n",
       "    </tr>\n",
       "    <tr>\n",
       "      <td>1588</td>\n",
       "      <td>31 May 2009 00:00:00</td>\n",
       "      <td>5.58</td>\n",
       "    </tr>\n",
       "    <tr>\n",
       "      <td>...</td>\n",
       "      <td>...</td>\n",
       "      <td>...</td>\n",
       "    </tr>\n",
       "    <tr>\n",
       "      <td>27950</td>\n",
       "      <td>31 Aug 2021 00:00:00</td>\n",
       "      <td>6.30</td>\n",
       "    </tr>\n",
       "    <tr>\n",
       "      <td>28138</td>\n",
       "      <td>30 Sep 2021 00:00:00</td>\n",
       "      <td>6.60</td>\n",
       "    </tr>\n",
       "    <tr>\n",
       "      <td>28326</td>\n",
       "      <td>31 Oct 2021 00:00:00</td>\n",
       "      <td>6.50</td>\n",
       "    </tr>\n",
       "    <tr>\n",
       "      <td>28514</td>\n",
       "      <td>30 Nov 2021 00:00:00</td>\n",
       "      <td>6.30</td>\n",
       "    </tr>\n",
       "    <tr>\n",
       "      <td>28702</td>\n",
       "      <td>31 Dec 2021 00:00:00</td>\n",
       "      <td>6.10</td>\n",
       "    </tr>\n",
       "  </tbody>\n",
       "</table>\n",
       "<p>155 rows × 2 columns</p>\n",
       "</div>"
      ],
      "text/plain": [
       "                     period  value\n",
       "1584   31 Jan 2009 00:00:00   5.16\n",
       "1585   28 Feb 2009 00:00:00   6.84\n",
       "1586   31 Mar 2009 00:00:00   5.61\n",
       "1587   30 Apr 2009 00:00:00   6.20\n",
       "1588   31 May 2009 00:00:00   5.58\n",
       "...                     ...    ...\n",
       "27950  31 Aug 2021 00:00:00   6.30\n",
       "28138  30 Sep 2021 00:00:00   6.60\n",
       "28326  31 Oct 2021 00:00:00   6.50\n",
       "28514  30 Nov 2021 00:00:00   6.30\n",
       "28702  31 Dec 2021 00:00:00   6.10\n",
       "\n",
       "[155 rows x 2 columns]"
      ]
     },
     "execution_count": 57,
     "metadata": {},
     "output_type": "execute_result"
    }
   ],
   "source": [
    "new_df"
   ]
  },
  {
   "cell_type": "code",
   "execution_count": 58,
   "metadata": {},
   "outputs": [
    {
     "data": {
      "image/png": "[encoded data removed]",
      "text/plain": [
       "<Figure size 864x576 with 1 Axes>"
      ]
     },
     "metadata": {
      "needs_background": "light"
     },
     "output_type": "display_data"
    }
   ],
   "source": [
    "fig, ax = plt.subplots()\n",
    "\n",
    "x = new_df['period']\n",
    "y = new_df['value']\n",
    "\n",
    "ax.plot(x, y, color = 'r', linewidth = 2)\n",
    "\n",
    "#  Исправление формата подписей оси x\n",
    "ax.xaxis.set_major_locator(ticker.MultipleLocator(30))\n",
    "ax.xaxis.set_minor_locator(ticker.MultipleLocator(1))\n",
    "\n",
    "\n",
    "fig.set_figwidth(12)\n",
    "fig.set_figheight(8)\n",
    "\n",
    "plt.show()"
   ]
  },
  {
   "cell_type": "markdown",
   "metadata": {},
   "source": [
    "## Построение графика автокорреляционной функции"
   ]
  },
  {
   "cell_type": "markdown",
   "metadata": {},
   "source": [
    "Импорт необходимых библиотек (если нет, установить через !pip install)"
   ]
  },
  {
   "cell_type": "code",
   "execution_count": 106,
   "metadata": {},
   "outputs": [],
   "source": [
    "from statsmodels.graphics.tsaplots import plot_acf, plot_pacf"
   ]
  },
  {
   "cell_type": "code",
   "execution_count": 9,
   "metadata": {},
   "outputs": [
    {
     "data": {
      "image/png": "[encoded data removed]",
      "text/plain": [
       "<Figure size 432x288 with 1 Axes>"
      ]
     },
     "execution_count": 9,
     "metadata": {},
     "output_type": "execute_result"
    },
    {
     "data": {
      "image/png": "[encoded data removed]",
      "text/plain": [
       "<Figure size 432x288 with 1 Axes>"
      ]
     },
     "metadata": {
      "needs_background": "light"
     },
     "output_type": "display_data"
    }
   ],
   "source": [
    "plot_acf(new_df['value'])"
   ]
  },
  {
   "cell_type": "markdown",
   "metadata": {},
   "source": [
    "## Тест Дикки-Фуллера"
   ]
  },
  {
   "cell_type": "code",
   "execution_count": 10,
   "metadata": {},
   "outputs": [],
   "source": [
    "import statsmodels as sm"
   ]
  },
  {
   "cell_type": "code",
   "execution_count": 102,
   "metadata": {},
   "outputs": [
    {
     "name": "stdout",
     "output_type": "stream",
     "text": [
      "adf:  -1.6855543395519392\n",
      "p-value:  0.43857026279843736\n",
      "Critical values:  {'1%': -3.477261624048995, '5%': -2.8821181874544233, '10%': -2.5777431104939494}\n",
      "ряд не стационарен\n"
     ]
    }
   ],
   "source": [
    "test = sm.tsa.stattools.adfuller(orel_df['value'])\n",
    "print('adf: ', test[0]) \n",
    "print('p-value: ', test[1])\n",
    "print('Critical values: ', test[4])\n",
    "if test[0]> test[4]['5%']: \n",
    "    print('ряд не стационарен')\n",
    "else:\n",
    "    print('ряд стационарен')"
   ]
  },
  {
   "cell_type": "markdown",
   "metadata": {},
   "source": [
    "### Немного полезных ссылок \n",
    "https://maxdrive.kyiv.ua/dokumentacija/pochta/kak-sdelat-vremennoj-rjad-stacionarnym-python\n",
    "http://distrland.blogspot.com/2020/06/python_28.html"
   ]
  },
  {
   "cell_type": "markdown",
   "metadata": {},
   "source": [
    "## Приведение ряда к стационарному виду"
   ]
  },
  {
   "cell_type": "markdown",
   "metadata": {},
   "source": [
    "### Первый метод"
   ]
  },
  {
   "cell_type": "markdown",
   "metadata": {},
   "source": [
    "Имеем следующий датафрейм:"
   ]
  },
  {
   "cell_type": "code",
   "execution_count": 83,
   "metadata": {},
   "outputs": [
    {
     "data": {
      "text/html": [
       "<div>\n",
       "<style scoped>\n",
       "    .dataframe tbody tr th:only-of-type {\n",
       "        vertical-align: middle;\n",
       "    }\n",
       "\n",
       "    .dataframe tbody tr th {\n",
       "        vertical-align: top;\n",
       "    }\n",
       "\n",
       "    .dataframe thead th {\n",
       "        text-align: right;\n",
       "    }\n",
       "</style>\n",
       "<table border=\"1\" class=\"dataframe\">\n",
       "  <thead>\n",
       "    <tr style=\"text-align: right;\">\n",
       "      <th></th>\n",
       "      <th>period</th>\n",
       "      <th>value</th>\n",
       "    </tr>\n",
       "  </thead>\n",
       "  <tbody>\n",
       "    <tr>\n",
       "      <td>1584</td>\n",
       "      <td>31 Jan 2009 00:00:00</td>\n",
       "      <td>5.16</td>\n",
       "    </tr>\n",
       "    <tr>\n",
       "      <td>1585</td>\n",
       "      <td>28 Feb 2009 00:00:00</td>\n",
       "      <td>6.84</td>\n",
       "    </tr>\n",
       "    <tr>\n",
       "      <td>1586</td>\n",
       "      <td>31 Mar 2009 00:00:00</td>\n",
       "      <td>5.61</td>\n",
       "    </tr>\n",
       "    <tr>\n",
       "      <td>1587</td>\n",
       "      <td>30 Apr 2009 00:00:00</td>\n",
       "      <td>6.20</td>\n",
       "    </tr>\n",
       "    <tr>\n",
       "      <td>1588</td>\n",
       "      <td>31 May 2009 00:00:00</td>\n",
       "      <td>5.58</td>\n",
       "    </tr>\n",
       "    <tr>\n",
       "      <td>...</td>\n",
       "      <td>...</td>\n",
       "      <td>...</td>\n",
       "    </tr>\n",
       "    <tr>\n",
       "      <td>27950</td>\n",
       "      <td>31 Aug 2021 00:00:00</td>\n",
       "      <td>6.30</td>\n",
       "    </tr>\n",
       "    <tr>\n",
       "      <td>28138</td>\n",
       "      <td>30 Sep 2021 00:00:00</td>\n",
       "      <td>6.60</td>\n",
       "    </tr>\n",
       "    <tr>\n",
       "      <td>28326</td>\n",
       "      <td>31 Oct 2021 00:00:00</td>\n",
       "      <td>6.50</td>\n",
       "    </tr>\n",
       "    <tr>\n",
       "      <td>28514</td>\n",
       "      <td>30 Nov 2021 00:00:00</td>\n",
       "      <td>6.30</td>\n",
       "    </tr>\n",
       "    <tr>\n",
       "      <td>28702</td>\n",
       "      <td>31 Dec 2021 00:00:00</td>\n",
       "      <td>6.10</td>\n",
       "    </tr>\n",
       "  </tbody>\n",
       "</table>\n",
       "<p>155 rows × 2 columns</p>\n",
       "</div>"
      ],
      "text/plain": [
       "                     period  value\n",
       "1584   31 Jan 2009 00:00:00   5.16\n",
       "1585   28 Feb 2009 00:00:00   6.84\n",
       "1586   31 Mar 2009 00:00:00   5.61\n",
       "1587   30 Apr 2009 00:00:00   6.20\n",
       "1588   31 May 2009 00:00:00   5.58\n",
       "...                     ...    ...\n",
       "27950  31 Aug 2021 00:00:00   6.30\n",
       "28138  30 Sep 2021 00:00:00   6.60\n",
       "28326  31 Oct 2021 00:00:00   6.50\n",
       "28514  30 Nov 2021 00:00:00   6.30\n",
       "28702  31 Dec 2021 00:00:00   6.10\n",
       "\n",
       "[155 rows x 2 columns]"
      ]
     },
     "execution_count": 83,
     "metadata": {},
     "output_type": "execute_result"
    }
   ],
   "source": [
    "new_df"
   ]
  },
  {
   "cell_type": "markdown",
   "metadata": {},
   "source": [
    "Создадим из него тестовый датафрейм, с которым будем производить все преобразования:"
   ]
  },
  {
   "cell_type": "code",
   "execution_count": 84,
   "metadata": {},
   "outputs": [],
   "source": [
    "stat_df = new_df"
   ]
  },
  {
   "cell_type": "code",
   "execution_count": 85,
   "metadata": {},
   "outputs": [
    {
     "data": {
      "text/html": [
       "<div>\n",
       "<style scoped>\n",
       "    .dataframe tbody tr th:only-of-type {\n",
       "        vertical-align: middle;\n",
       "    }\n",
       "\n",
       "    .dataframe tbody tr th {\n",
       "        vertical-align: top;\n",
       "    }\n",
       "\n",
       "    .dataframe thead th {\n",
       "        text-align: right;\n",
       "    }\n",
       "</style>\n",
       "<table border=\"1\" class=\"dataframe\">\n",
       "  <thead>\n",
       "    <tr style=\"text-align: right;\">\n",
       "      <th></th>\n",
       "      <th>period</th>\n",
       "      <th>value</th>\n",
       "    </tr>\n",
       "  </thead>\n",
       "  <tbody>\n",
       "    <tr>\n",
       "      <td>1584</td>\n",
       "      <td>31 Jan 2009 00:00:00</td>\n",
       "      <td>5.16</td>\n",
       "    </tr>\n",
       "    <tr>\n",
       "      <td>1585</td>\n",
       "      <td>28 Feb 2009 00:00:00</td>\n",
       "      <td>6.84</td>\n",
       "    </tr>\n",
       "    <tr>\n",
       "      <td>1586</td>\n",
       "      <td>31 Mar 2009 00:00:00</td>\n",
       "      <td>5.61</td>\n",
       "    </tr>\n",
       "    <tr>\n",
       "      <td>1587</td>\n",
       "      <td>30 Apr 2009 00:00:00</td>\n",
       "      <td>6.20</td>\n",
       "    </tr>\n",
       "    <tr>\n",
       "      <td>1588</td>\n",
       "      <td>31 May 2009 00:00:00</td>\n",
       "      <td>5.58</td>\n",
       "    </tr>\n",
       "    <tr>\n",
       "      <td>...</td>\n",
       "      <td>...</td>\n",
       "      <td>...</td>\n",
       "    </tr>\n",
       "    <tr>\n",
       "      <td>27950</td>\n",
       "      <td>31 Aug 2021 00:00:00</td>\n",
       "      <td>6.30</td>\n",
       "    </tr>\n",
       "    <tr>\n",
       "      <td>28138</td>\n",
       "      <td>30 Sep 2021 00:00:00</td>\n",
       "      <td>6.60</td>\n",
       "    </tr>\n",
       "    <tr>\n",
       "      <td>28326</td>\n",
       "      <td>31 Oct 2021 00:00:00</td>\n",
       "      <td>6.50</td>\n",
       "    </tr>\n",
       "    <tr>\n",
       "      <td>28514</td>\n",
       "      <td>30 Nov 2021 00:00:00</td>\n",
       "      <td>6.30</td>\n",
       "    </tr>\n",
       "    <tr>\n",
       "      <td>28702</td>\n",
       "      <td>31 Dec 2021 00:00:00</td>\n",
       "      <td>6.10</td>\n",
       "    </tr>\n",
       "  </tbody>\n",
       "</table>\n",
       "<p>155 rows × 2 columns</p>\n",
       "</div>"
      ],
      "text/plain": [
       "                     period  value\n",
       "1584   31 Jan 2009 00:00:00   5.16\n",
       "1585   28 Feb 2009 00:00:00   6.84\n",
       "1586   31 Mar 2009 00:00:00   5.61\n",
       "1587   30 Apr 2009 00:00:00   6.20\n",
       "1588   31 May 2009 00:00:00   5.58\n",
       "...                     ...    ...\n",
       "27950  31 Aug 2021 00:00:00   6.30\n",
       "28138  30 Sep 2021 00:00:00   6.60\n",
       "28326  31 Oct 2021 00:00:00   6.50\n",
       "28514  30 Nov 2021 00:00:00   6.30\n",
       "28702  31 Dec 2021 00:00:00   6.10\n",
       "\n",
       "[155 rows x 2 columns]"
      ]
     },
     "execution_count": 85,
     "metadata": {},
     "output_type": "execute_result"
    }
   ],
   "source": [
    "stat_df"
   ]
  },
  {
   "cell_type": "markdown",
   "metadata": {},
   "source": [
    "Импортируем библиотеку NumPy, т.к. там имеется функция логарифмирования"
   ]
  },
  {
   "cell_type": "code",
   "execution_count": 86,
   "metadata": {},
   "outputs": [],
   "source": [
    "import numpy as np"
   ]
  },
  {
   "cell_type": "markdown",
   "metadata": {},
   "source": [
    "Преобразования используются для стабилизации непостоянной дисперсии ряда. Общие методы преобразования включают степенное преобразование, квадратный корень и логарифмическое преобразование. В нашем случае используем логарифмирование"
   ]
  },
  {
   "cell_type": "code",
   "execution_count": 87,
   "metadata": {},
   "outputs": [],
   "source": [
    "stat_df['value_log'] = np.log(stat_df['value'])"
   ]
  },
  {
   "cell_type": "code",
   "execution_count": 88,
   "metadata": {},
   "outputs": [
    {
     "data": {
      "text/html": [
       "<div>\n",
       "<style scoped>\n",
       "    .dataframe tbody tr th:only-of-type {\n",
       "        vertical-align: middle;\n",
       "    }\n",
       "\n",
       "    .dataframe tbody tr th {\n",
       "        vertical-align: top;\n",
       "    }\n",
       "\n",
       "    .dataframe thead th {\n",
       "        text-align: right;\n",
       "    }\n",
       "</style>\n",
       "<table border=\"1\" class=\"dataframe\">\n",
       "  <thead>\n",
       "    <tr style=\"text-align: right;\">\n",
       "      <th></th>\n",
       "      <th>period</th>\n",
       "      <th>value</th>\n",
       "      <th>value_log</th>\n",
       "    </tr>\n",
       "  </thead>\n",
       "  <tbody>\n",
       "    <tr>\n",
       "      <td>1584</td>\n",
       "      <td>31 Jan 2009 00:00:00</td>\n",
       "      <td>5.16</td>\n",
       "      <td>1.640937</td>\n",
       "    </tr>\n",
       "    <tr>\n",
       "      <td>1585</td>\n",
       "      <td>28 Feb 2009 00:00:00</td>\n",
       "      <td>6.84</td>\n",
       "      <td>1.922788</td>\n",
       "    </tr>\n",
       "    <tr>\n",
       "      <td>1586</td>\n",
       "      <td>31 Mar 2009 00:00:00</td>\n",
       "      <td>5.61</td>\n",
       "      <td>1.724551</td>\n",
       "    </tr>\n",
       "    <tr>\n",
       "      <td>1587</td>\n",
       "      <td>30 Apr 2009 00:00:00</td>\n",
       "      <td>6.20</td>\n",
       "      <td>1.824549</td>\n",
       "    </tr>\n",
       "    <tr>\n",
       "      <td>1588</td>\n",
       "      <td>31 May 2009 00:00:00</td>\n",
       "      <td>5.58</td>\n",
       "      <td>1.719189</td>\n",
       "    </tr>\n",
       "    <tr>\n",
       "      <td>...</td>\n",
       "      <td>...</td>\n",
       "      <td>...</td>\n",
       "      <td>...</td>\n",
       "    </tr>\n",
       "    <tr>\n",
       "      <td>27950</td>\n",
       "      <td>31 Aug 2021 00:00:00</td>\n",
       "      <td>6.30</td>\n",
       "      <td>1.840550</td>\n",
       "    </tr>\n",
       "    <tr>\n",
       "      <td>28138</td>\n",
       "      <td>30 Sep 2021 00:00:00</td>\n",
       "      <td>6.60</td>\n",
       "      <td>1.887070</td>\n",
       "    </tr>\n",
       "    <tr>\n",
       "      <td>28326</td>\n",
       "      <td>31 Oct 2021 00:00:00</td>\n",
       "      <td>6.50</td>\n",
       "      <td>1.871802</td>\n",
       "    </tr>\n",
       "    <tr>\n",
       "      <td>28514</td>\n",
       "      <td>30 Nov 2021 00:00:00</td>\n",
       "      <td>6.30</td>\n",
       "      <td>1.840550</td>\n",
       "    </tr>\n",
       "    <tr>\n",
       "      <td>28702</td>\n",
       "      <td>31 Dec 2021 00:00:00</td>\n",
       "      <td>6.10</td>\n",
       "      <td>1.808289</td>\n",
       "    </tr>\n",
       "  </tbody>\n",
       "</table>\n",
       "<p>155 rows × 3 columns</p>\n",
       "</div>"
      ],
      "text/plain": [
       "                     period  value  value_log\n",
       "1584   31 Jan 2009 00:00:00   5.16   1.640937\n",
       "1585   28 Feb 2009 00:00:00   6.84   1.922788\n",
       "1586   31 Mar 2009 00:00:00   5.61   1.724551\n",
       "1587   30 Apr 2009 00:00:00   6.20   1.824549\n",
       "1588   31 May 2009 00:00:00   5.58   1.719189\n",
       "...                     ...    ...        ...\n",
       "27950  31 Aug 2021 00:00:00   6.30   1.840550\n",
       "28138  30 Sep 2021 00:00:00   6.60   1.887070\n",
       "28326  31 Oct 2021 00:00:00   6.50   1.871802\n",
       "28514  30 Nov 2021 00:00:00   6.30   1.840550\n",
       "28702  31 Dec 2021 00:00:00   6.10   1.808289\n",
       "\n",
       "[155 rows x 3 columns]"
      ]
     },
     "execution_count": 88,
     "metadata": {},
     "output_type": "execute_result"
    }
   ],
   "source": [
    "stat_df"
   ]
  },
  {
   "cell_type": "markdown",
   "metadata": {},
   "source": [
    "Для того, чтобы избавиться от меняющегося среднего выполним разницу последовательных членов в ряду"
   ]
  },
  {
   "cell_type": "code",
   "execution_count": 89,
   "metadata": {},
   "outputs": [],
   "source": [
    "stat_df['value_diff'] = stat_df['value_log'] - stat_df['value_log'].shift(1)"
   ]
  },
  {
   "cell_type": "markdown",
   "metadata": {},
   "source": [
    "При выполнении такого преобразования первый член ряда будет неопределён. Проверим ряд на наличие пустого значения и убедимся в этом"
   ]
  },
  {
   "cell_type": "code",
   "execution_count": 90,
   "metadata": {},
   "outputs": [
    {
     "data": {
      "text/plain": [
       "period        0\n",
       "value         0\n",
       "value_log     0\n",
       "value_diff    1\n",
       "dtype: int64"
      ]
     },
     "execution_count": 90,
     "metadata": {},
     "output_type": "execute_result"
    }
   ],
   "source": [
    "stat_df.isna().sum()"
   ]
  },
  {
   "cell_type": "markdown",
   "metadata": {},
   "source": [
    "Видим одно пустое значение. Удалим его из ряда для дальнейшей работы методом notnull"
   ]
  },
  {
   "cell_type": "code",
   "execution_count": 91,
   "metadata": {},
   "outputs": [],
   "source": [
    "stat_df = stat_df[pd.notnull(stat_df['value_diff'])]"
   ]
  },
  {
   "cell_type": "code",
   "execution_count": 92,
   "metadata": {},
   "outputs": [
    {
     "data": {
      "image/png": "[encoded data removed]",
      "text/plain": [
       "<Figure size 864x576 with 1 Axes>"
      ]
     },
     "metadata": {
      "needs_background": "light"
     },
     "output_type": "display_data"
    }
   ],
   "source": [
    "fig, ax = plt.subplots()\n",
    "\n",
    "x = stat_df['period']\n",
    "y = stat_df['value_diff']\n",
    "\n",
    "ax.plot(x, y, color = 'r', linewidth = 2)\n",
    "\n",
    "#  Исправление формата подписей оси x\n",
    "ax.xaxis.set_major_locator(ticker.MultipleLocator(30))\n",
    "ax.xaxis.set_minor_locator(ticker.MultipleLocator(1))\n",
    "\n",
    "\n",
    "fig.set_figwidth(12)\n",
    "fig.set_figheight(8)\n",
    "\n",
    "plt.show()"
   ]
  },
  {
   "cell_type": "code",
   "execution_count": 93,
   "metadata": {},
   "outputs": [
    {
     "name": "stdout",
     "output_type": "stream",
     "text": [
      "adf:  -4.059069636219816\n",
      "p-value:  0.0011309083917136332\n",
      "Critical values:  {'1%': -3.477261624048995, '5%': -2.8821181874544233, '10%': -2.5777431104939494}\n",
      "ряд стационарен\n"
     ]
    }
   ],
   "source": [
    "test = sm.tsa.stattools.adfuller(stat_df['value_diff'])\n",
    "print('adf: ', test[0]) \n",
    "print('p-value: ', test[1])\n",
    "print('Critical values: ', test[4])\n",
    "if test[0]> test[4]['5%']: \n",
    "    print('ряд не стационарен')\n",
    "else:\n",
    "    print('ряд стационарен')"
   ]
  },
  {
   "cell_type": "markdown",
   "metadata": {},
   "source": [
    "Получили стационарный временной ряд."
   ]
  },
  {
   "cell_type": "markdown",
   "metadata": {},
   "source": [
    "### Второй метод"
   ]
  },
  {
   "cell_type": "markdown",
   "metadata": {},
   "source": [
    "Во втором методе использовал только первые разности ряда (т.е. получил просто интегрированный ряд первого порядка)"
   ]
  },
  {
   "cell_type": "markdown",
   "metadata": {},
   "source": [
    "Заново создадим new_df"
   ]
  },
  {
   "cell_type": "code",
   "execution_count": 94,
   "metadata": {},
   "outputs": [],
   "source": [
    "new_df = orel_df.drop([\"territory\", \"id_indicator\", \"territory.ccube.0\", \"territory.ccube.1\", \"territory.ccube.2\", \"territory.ccube.attr.0\", \"territory.ccube.3\", \"territory.ccube.4\"], axis=1)"
   ]
  },
  {
   "cell_type": "code",
   "execution_count": 95,
   "metadata": {},
   "outputs": [],
   "source": [
    "stat_df2 = new_df"
   ]
  },
  {
   "cell_type": "code",
   "execution_count": 96,
   "metadata": {},
   "outputs": [
    {
     "data": {
      "text/html": [
       "<div>\n",
       "<style scoped>\n",
       "    .dataframe tbody tr th:only-of-type {\n",
       "        vertical-align: middle;\n",
       "    }\n",
       "\n",
       "    .dataframe tbody tr th {\n",
       "        vertical-align: top;\n",
       "    }\n",
       "\n",
       "    .dataframe thead th {\n",
       "        text-align: right;\n",
       "    }\n",
       "</style>\n",
       "<table border=\"1\" class=\"dataframe\">\n",
       "  <thead>\n",
       "    <tr style=\"text-align: right;\">\n",
       "      <th></th>\n",
       "      <th>period</th>\n",
       "      <th>value</th>\n",
       "    </tr>\n",
       "  </thead>\n",
       "  <tbody>\n",
       "    <tr>\n",
       "      <td>1584</td>\n",
       "      <td>31 Jan 2009 00:00:00</td>\n",
       "      <td>5.16</td>\n",
       "    </tr>\n",
       "    <tr>\n",
       "      <td>1585</td>\n",
       "      <td>28 Feb 2009 00:00:00</td>\n",
       "      <td>6.84</td>\n",
       "    </tr>\n",
       "    <tr>\n",
       "      <td>1586</td>\n",
       "      <td>31 Mar 2009 00:00:00</td>\n",
       "      <td>5.61</td>\n",
       "    </tr>\n",
       "    <tr>\n",
       "      <td>1587</td>\n",
       "      <td>30 Apr 2009 00:00:00</td>\n",
       "      <td>6.20</td>\n",
       "    </tr>\n",
       "    <tr>\n",
       "      <td>1588</td>\n",
       "      <td>31 May 2009 00:00:00</td>\n",
       "      <td>5.58</td>\n",
       "    </tr>\n",
       "    <tr>\n",
       "      <td>...</td>\n",
       "      <td>...</td>\n",
       "      <td>...</td>\n",
       "    </tr>\n",
       "    <tr>\n",
       "      <td>27950</td>\n",
       "      <td>31 Aug 2021 00:00:00</td>\n",
       "      <td>6.30</td>\n",
       "    </tr>\n",
       "    <tr>\n",
       "      <td>28138</td>\n",
       "      <td>30 Sep 2021 00:00:00</td>\n",
       "      <td>6.60</td>\n",
       "    </tr>\n",
       "    <tr>\n",
       "      <td>28326</td>\n",
       "      <td>31 Oct 2021 00:00:00</td>\n",
       "      <td>6.50</td>\n",
       "    </tr>\n",
       "    <tr>\n",
       "      <td>28514</td>\n",
       "      <td>30 Nov 2021 00:00:00</td>\n",
       "      <td>6.30</td>\n",
       "    </tr>\n",
       "    <tr>\n",
       "      <td>28702</td>\n",
       "      <td>31 Dec 2021 00:00:00</td>\n",
       "      <td>6.10</td>\n",
       "    </tr>\n",
       "  </tbody>\n",
       "</table>\n",
       "<p>155 rows × 2 columns</p>\n",
       "</div>"
      ],
      "text/plain": [
       "                     period  value\n",
       "1584   31 Jan 2009 00:00:00   5.16\n",
       "1585   28 Feb 2009 00:00:00   6.84\n",
       "1586   31 Mar 2009 00:00:00   5.61\n",
       "1587   30 Apr 2009 00:00:00   6.20\n",
       "1588   31 May 2009 00:00:00   5.58\n",
       "...                     ...    ...\n",
       "27950  31 Aug 2021 00:00:00   6.30\n",
       "28138  30 Sep 2021 00:00:00   6.60\n",
       "28326  31 Oct 2021 00:00:00   6.50\n",
       "28514  30 Nov 2021 00:00:00   6.30\n",
       "28702  31 Dec 2021 00:00:00   6.10\n",
       "\n",
       "[155 rows x 2 columns]"
      ]
     },
     "execution_count": 96,
     "metadata": {},
     "output_type": "execute_result"
    }
   ],
   "source": [
    "stat_df2"
   ]
  },
  {
   "cell_type": "code",
   "execution_count": 97,
   "metadata": {},
   "outputs": [],
   "source": [
    "stat_df2['value'] = new_df['value'].diff(periods=1).dropna()"
   ]
  },
  {
   "cell_type": "markdown",
   "metadata": {},
   "source": [
    "В коде выше функция diff() вычисляет разность исходного ряда с рядом с заданным смещением периода. Период смещения передается как параметр period."
   ]
  },
  {
   "cell_type": "code",
   "execution_count": 98,
   "metadata": {},
   "outputs": [
    {
     "data": {
      "text/html": [
       "<div>\n",
       "<style scoped>\n",
       "    .dataframe tbody tr th:only-of-type {\n",
       "        vertical-align: middle;\n",
       "    }\n",
       "\n",
       "    .dataframe tbody tr th {\n",
       "        vertical-align: top;\n",
       "    }\n",
       "\n",
       "    .dataframe thead th {\n",
       "        text-align: right;\n",
       "    }\n",
       "</style>\n",
       "<table border=\"1\" class=\"dataframe\">\n",
       "  <thead>\n",
       "    <tr style=\"text-align: right;\">\n",
       "      <th></th>\n",
       "      <th>period</th>\n",
       "      <th>value</th>\n",
       "    </tr>\n",
       "  </thead>\n",
       "  <tbody>\n",
       "    <tr>\n",
       "      <td>1584</td>\n",
       "      <td>31 Jan 2009 00:00:00</td>\n",
       "      <td>NaN</td>\n",
       "    </tr>\n",
       "    <tr>\n",
       "      <td>1585</td>\n",
       "      <td>28 Feb 2009 00:00:00</td>\n",
       "      <td>1.68</td>\n",
       "    </tr>\n",
       "    <tr>\n",
       "      <td>1586</td>\n",
       "      <td>31 Mar 2009 00:00:00</td>\n",
       "      <td>-1.23</td>\n",
       "    </tr>\n",
       "    <tr>\n",
       "      <td>1587</td>\n",
       "      <td>30 Apr 2009 00:00:00</td>\n",
       "      <td>0.59</td>\n",
       "    </tr>\n",
       "    <tr>\n",
       "      <td>1588</td>\n",
       "      <td>31 May 2009 00:00:00</td>\n",
       "      <td>-0.62</td>\n",
       "    </tr>\n",
       "    <tr>\n",
       "      <td>...</td>\n",
       "      <td>...</td>\n",
       "      <td>...</td>\n",
       "    </tr>\n",
       "    <tr>\n",
       "      <td>27950</td>\n",
       "      <td>31 Aug 2021 00:00:00</td>\n",
       "      <td>0.60</td>\n",
       "    </tr>\n",
       "    <tr>\n",
       "      <td>28138</td>\n",
       "      <td>30 Sep 2021 00:00:00</td>\n",
       "      <td>0.30</td>\n",
       "    </tr>\n",
       "    <tr>\n",
       "      <td>28326</td>\n",
       "      <td>31 Oct 2021 00:00:00</td>\n",
       "      <td>-0.10</td>\n",
       "    </tr>\n",
       "    <tr>\n",
       "      <td>28514</td>\n",
       "      <td>30 Nov 2021 00:00:00</td>\n",
       "      <td>-0.20</td>\n",
       "    </tr>\n",
       "    <tr>\n",
       "      <td>28702</td>\n",
       "      <td>31 Dec 2021 00:00:00</td>\n",
       "      <td>-0.20</td>\n",
       "    </tr>\n",
       "  </tbody>\n",
       "</table>\n",
       "<p>155 rows × 2 columns</p>\n",
       "</div>"
      ],
      "text/plain": [
       "                     period  value\n",
       "1584   31 Jan 2009 00:00:00    NaN\n",
       "1585   28 Feb 2009 00:00:00   1.68\n",
       "1586   31 Mar 2009 00:00:00  -1.23\n",
       "1587   30 Apr 2009 00:00:00   0.59\n",
       "1588   31 May 2009 00:00:00  -0.62\n",
       "...                     ...    ...\n",
       "27950  31 Aug 2021 00:00:00   0.60\n",
       "28138  30 Sep 2021 00:00:00   0.30\n",
       "28326  31 Oct 2021 00:00:00  -0.10\n",
       "28514  30 Nov 2021 00:00:00  -0.20\n",
       "28702  31 Dec 2021 00:00:00  -0.20\n",
       "\n",
       "[155 rows x 2 columns]"
      ]
     },
     "execution_count": 98,
     "metadata": {},
     "output_type": "execute_result"
    }
   ],
   "source": [
    "stat_df2"
   ]
  },
  {
   "cell_type": "code",
   "execution_count": 99,
   "metadata": {},
   "outputs": [],
   "source": [
    "stat_df2 = stat_df2[pd.notnull(stat_df2['value'])]"
   ]
  },
  {
   "cell_type": "markdown",
   "metadata": {},
   "source": [
    "Т.к. в разности первое значение получиться неопределенным, то нам надо избавиться от него для этого и используется метод notnull()."
   ]
  },
  {
   "cell_type": "code",
   "execution_count": 101,
   "metadata": {},
   "outputs": [
    {
     "name": "stdout",
     "output_type": "stream",
     "text": [
      "adf:  -3.9300152040897878\n",
      "p-value:  0.0018247266254209523\n",
      "Critical values:  {'1%': -3.477261624048995, '5%': -2.8821181874544233, '10%': -2.5777431104939494}\n",
      "ряд стационарен\n"
     ]
    }
   ],
   "source": [
    "test = sm.tsa.stattools.adfuller(stat_df2['value'])\n",
    "print('adf: ', test[0]) \n",
    "print('p-value: ', test[1])\n",
    "print('Critical values: ', test[4])\n",
    "if test[0]> test[4]['5%']: \n",
    "    print('ряд не стационарен')\n",
    "else:\n",
    "    print('ряд стационарен')"
   ]
  },
  {
   "cell_type": "markdown",
   "metadata": {},
   "source": [
    "## Построение модели временного ряда"
   ]
  },
  {
   "cell_type": "code",
   "execution_count": 116,
   "metadata": {},
   "outputs": [
    {
     "data": {
      "image/png": "[encoded data removed]",
      "text/plain": [
       "<Figure size 432x288 with 1 Axes>"
      ]
     },
     "execution_count": 116,
     "metadata": {},
     "output_type": "execute_result"
    },
    {
     "data": {
      "image/png": "[encoded data removed]",
      "text/plain": [
       "<Figure size 432x288 with 1 Axes>"
      ]
     },
     "metadata": {
      "needs_background": "light"
     },
     "output_type": "display_data"
    },
    {
     "data": {
      "image/png": "[encoded data removed]",
      "text/plain": [
       "<Figure size 432x288 with 1 Axes>"
      ]
     },
     "metadata": {
      "needs_background": "light"
     },
     "output_type": "display_data"
    }
   ],
   "source": [
    "plot_acf(stat_df2['value'].values.squeeze())\n",
    "plot_pacf(stat_df2['value'])"
   ]
  },
  {
   "cell_type": "code",
   "execution_count": null,
   "metadata": {},
   "outputs": [],
   "source": []
  }
 ],
 "metadata": {
  "kernelspec": {
   "display_name": "Python 3",
   "language": "python",
   "name": "python3"
  },
  "language_info": {
   "codemirror_mode": {
    "name": "ipython",
    "version": 3
   },
   "file_extension": ".py",
   "mimetype": "text/x-python",
   "name": "python",
   "nbconvert_exporter": "python",
   "pygments_lexer": "ipython3",
   "version": "3.7.4"
  }
 },
 "nbformat": 4,
 "nbformat_minor": 5
}
