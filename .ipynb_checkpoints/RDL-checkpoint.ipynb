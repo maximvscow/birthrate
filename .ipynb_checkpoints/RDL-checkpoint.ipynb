{
 "cells": [
  {
   "cell_type": "markdown",
   "id": "0c5478cd",
   "metadata": {},
   "source": [
    "# Зависимость рождаемости от брачности на основе анализа временных рядов"
   ]
  },
  {
   "cell_type": "markdown",
   "id": "a175d468",
   "metadata": {},
   "source": [
    "## 1) Визуальный анализ\n"
   ]
  },
  {
   "cell_type": "markdown",
   "id": "6dd95e68",
   "metadata": {},
   "source": [
    "### 1.1 Подготовка данных по брачности"
   ]
  },
  {
   "cell_type": "markdown",
   "id": "73c8ce40",
   "metadata": {},
   "source": [
    "##### Импорт необходимых для дальнейшей работы библиотек"
   ]
  },
  {
   "cell_type": "code",
   "execution_count": 1,
   "id": "6e1a5734",
   "metadata": {},
   "outputs": [],
   "source": [
    "import pandas as pd # библиотека для работы с табличными данными\n",
    "import matplotlib.pyplot as plt # библиотека для построения графиков\n",
    "import matplotlib.ticker as ticker # модуль управления тиками\n",
    "from statsmodels.graphics.tsaplots import plot_acf # АКФ\n",
    "import statsmodels.api as sm # библиотека статистических функций "
   ]
  },
  {
   "cell_type": "markdown",
   "id": "4b3ed63d",
   "metadata": {},
   "source": [
    "##### Загрузка данных из csv-файла в датафрейм pandas"
   ]
  },
  {
   "cell_type": "code",
   "execution_count": 8,
   "id": "a552150d",
   "metadata": {},
   "outputs": [],
   "source": [
    "df_marriage = pd.read_csv('divorce_marriage.csv', encoding='ansi')"
   ]
  },
  {
   "cell_type": "markdown",
   "id": "68525c90",
   "metadata": {},
   "source": [
    "##### Отображение структуры полученного датафрейма"
   ]
  },
  {
   "cell_type": "code",
   "execution_count": 9,
   "id": "e420fc4d",
   "metadata": {},
   "outputs": [
    {
     "name": "stdout",
     "output_type": "stream",
     "text": [
      "<class 'pandas.core.frame.DataFrame'>\n",
      "RangeIndex: 28878 entries, 0 to 28877\n",
      "Data columns (total 10 columns):\n",
      " #   Column                  Non-Null Count  Dtype  \n",
      "---  ------                  --------------  -----  \n",
      " 0   territory               28878 non-null  int64  \n",
      " 1   id_indicator            28878 non-null  int64  \n",
      " 2   period                  28878 non-null  object \n",
      " 3   territory.ccube.0       28878 non-null  object \n",
      " 4   territory.ccube.1       28568 non-null  object \n",
      " 5   territory.ccube.2       26112 non-null  object \n",
      " 6   territory.ccube.attr.0  28878 non-null  int64  \n",
      " 7   territory.ccube.3       28878 non-null  object \n",
      " 8   territory.ccube.4       28878 non-null  object \n",
      " 9   value                   28878 non-null  float64\n",
      "dtypes: float64(1), int64(3), object(6)\n",
      "memory usage: 2.2+ MB\n"
     ]
    }
   ],
   "source": [
    "df_marriage.info()"
   ]
  },
  {
   "cell_type": "markdown",
   "id": "3be2cc0e",
   "metadata": {},
   "source": [
    "    - id_indicator - это id показателя (браки = 814, разводы = 816)\n",
    "    - territory.ccube.(0-2) - это идентификатор уровня субъекта (0 - страна, 1 - федеральный округ, 2 - область или округ)\n",
    "*В связи с этим составим датафрейм, выбрав только нужный нам субъект и показатель*"
   ]
  },
  {
   "cell_type": "code",
   "execution_count": 5,
   "id": "fe76a806",
   "metadata": {},
   "outputs": [],
   "source": [
    "orel_df = df.loc[(df['territory.ccube.3'] == 'Орловская область') & (df['id_indicator'] == 814)]"
   ]
  },
  {
   "cell_type": "markdown",
   "id": "5b864a07",
   "metadata": {},
   "source": [
    "Отображение нового датафрейма по бракам для Орловской области после удаления лишних колонок"
   ]
  },
  {
   "cell_type": "code",
   "execution_count": 6,
   "id": "cefbd0ca",
   "metadata": {},
   "outputs": [],
   "source": [
    "new_df = orel_df.drop([\"territory\", \"id_indicator\", \"territory.ccube.0\", \"territory.ccube.1\", \"territory.ccube.2\", \"territory.ccube.attr.0\", \"territory.ccube.3\", \"territory.ccube.4\"], axis=1)"
   ]
  },
  {
   "cell_type": "code",
   "execution_count": 7,
   "id": "833f0445",
   "metadata": {},
   "outputs": [
    {
     "data": {
      "text/html": [
       "<div>\n",
       "<style scoped>\n",
       "    .dataframe tbody tr th:only-of-type {\n",
       "        vertical-align: middle;\n",
       "    }\n",
       "\n",
       "    .dataframe tbody tr th {\n",
       "        vertical-align: top;\n",
       "    }\n",
       "\n",
       "    .dataframe thead th {\n",
       "        text-align: right;\n",
       "    }\n",
       "</style>\n",
       "<table border=\"1\" class=\"dataframe\">\n",
       "  <thead>\n",
       "    <tr style=\"text-align: right;\">\n",
       "      <th></th>\n",
       "      <th>period</th>\n",
       "      <th>value</th>\n",
       "    </tr>\n",
       "  </thead>\n",
       "  <tbody>\n",
       "    <tr>\n",
       "      <th>1584</th>\n",
       "      <td>31 Jan 2009 00:00:00</td>\n",
       "      <td>5.16</td>\n",
       "    </tr>\n",
       "    <tr>\n",
       "      <th>1585</th>\n",
       "      <td>28 Feb 2009 00:00:00</td>\n",
       "      <td>6.84</td>\n",
       "    </tr>\n",
       "    <tr>\n",
       "      <th>1586</th>\n",
       "      <td>31 Mar 2009 00:00:00</td>\n",
       "      <td>5.61</td>\n",
       "    </tr>\n",
       "    <tr>\n",
       "      <th>1587</th>\n",
       "      <td>30 Apr 2009 00:00:00</td>\n",
       "      <td>6.20</td>\n",
       "    </tr>\n",
       "    <tr>\n",
       "      <th>1588</th>\n",
       "      <td>31 May 2009 00:00:00</td>\n",
       "      <td>5.58</td>\n",
       "    </tr>\n",
       "    <tr>\n",
       "      <th>...</th>\n",
       "      <td>...</td>\n",
       "      <td>...</td>\n",
       "    </tr>\n",
       "    <tr>\n",
       "      <th>27950</th>\n",
       "      <td>31 Aug 2021 00:00:00</td>\n",
       "      <td>6.30</td>\n",
       "    </tr>\n",
       "    <tr>\n",
       "      <th>28138</th>\n",
       "      <td>30 Sep 2021 00:00:00</td>\n",
       "      <td>6.60</td>\n",
       "    </tr>\n",
       "    <tr>\n",
       "      <th>28326</th>\n",
       "      <td>31 Oct 2021 00:00:00</td>\n",
       "      <td>6.50</td>\n",
       "    </tr>\n",
       "    <tr>\n",
       "      <th>28514</th>\n",
       "      <td>30 Nov 2021 00:00:00</td>\n",
       "      <td>6.30</td>\n",
       "    </tr>\n",
       "    <tr>\n",
       "      <th>28702</th>\n",
       "      <td>31 Dec 2021 00:00:00</td>\n",
       "      <td>6.10</td>\n",
       "    </tr>\n",
       "  </tbody>\n",
       "</table>\n",
       "<p>155 rows × 2 columns</p>\n",
       "</div>"
      ],
      "text/plain": [
       "                     period  value\n",
       "1584   31 Jan 2009 00:00:00   5.16\n",
       "1585   28 Feb 2009 00:00:00   6.84\n",
       "1586   31 Mar 2009 00:00:00   5.61\n",
       "1587   30 Apr 2009 00:00:00   6.20\n",
       "1588   31 May 2009 00:00:00   5.58\n",
       "...                     ...    ...\n",
       "27950  31 Aug 2021 00:00:00   6.30\n",
       "28138  30 Sep 2021 00:00:00   6.60\n",
       "28326  31 Oct 2021 00:00:00   6.50\n",
       "28514  30 Nov 2021 00:00:00   6.30\n",
       "28702  31 Dec 2021 00:00:00   6.10\n",
       "\n",
       "[155 rows x 2 columns]"
      ]
     },
     "execution_count": 7,
     "metadata": {},
     "output_type": "execute_result"
    }
   ],
   "source": [
    "new_df.dropna()"
   ]
  },
  {
   "cell_type": "code",
   "execution_count": 8,
   "id": "f3e03bd6",
   "metadata": {},
   "outputs": [
    {
     "data": {
      "image/png": "[encoded data removed]",
      "text/plain": [
       "<Figure size 864x576 with 1 Axes>"
      ]
     },
     "metadata": {
      "needs_background": "light"
     },
     "output_type": "display_data"
    }
   ],
   "source": [
    "fig, ax = plt.subplots()\n",
    "\n",
    "x = new_df['period']\n",
    "y = new_df['value']\n",
    "\n",
    "ax.plot(x, y, color = 'r', linewidth = 2)\n",
    "\n",
    "#  Исправление формата подписей оси x\n",
    "ax.xaxis.set_major_locator(ticker.MultipleLocator(30))\n",
    "ax.xaxis.set_minor_locator(ticker.MultipleLocator(1))\n",
    "\n",
    "\n",
    "fig.set_figwidth(12)\n",
    "fig.set_figheight(8)\n",
    "\n",
    "plt.show()"
   ]
  },
  {
   "cell_type": "markdown",
   "id": "ca0925bc",
   "metadata": {},
   "source": [
    "## 2) Тест Дикки-Фуллера"
   ]
  },
  {
   "cell_type": "markdown",
   "id": "873c369c",
   "metadata": {},
   "source": [
    "### Этот этап необходим для того, чтобы подтвердить гипотезу о нестационарности имеющегося ряда"
   ]
  },
  {
   "cell_type": "code",
   "execution_count": 11,
   "id": "af3c72bc",
   "metadata": {},
   "outputs": [],
   "source": [
    "import statsmodels.api as sm"
   ]
  },
  {
   "cell_type": "code",
   "execution_count": 12,
   "id": "ef63ee15",
   "metadata": {},
   "outputs": [
    {
     "name": "stdout",
     "output_type": "stream",
     "text": [
      "adf:  -1.6855543395519295\n",
      "p-value:  0.4385702627984426\n",
      "Critical values:  {'1%': -3.477261624048995, '5%': -2.8821181874544233, '10%': -2.5777431104939494}\n",
      "ряд не стационарен\n"
     ]
    }
   ],
   "source": [
    "test = sm.tsa.stattools.adfuller(orel_df['value'])\n",
    "print('adf: ', test[0]) \n",
    "print('p-value: ', test[1])\n",
    "print('Critical values: ', test[4])\n",
    "if test[0]> test[4]['5%']: \n",
    "    print('ряд не стационарен')\n",
    "else:\n",
    "    print('ряд стационарен')"
   ]
  },
  {
   "cell_type": "markdown",
   "id": "d5170acc",
   "metadata": {},
   "source": [
    "## 3) Приведение ряда к стационарному виду"
   ]
  },
  {
   "cell_type": "markdown",
   "id": "45aab7a1",
   "metadata": {},
   "source": [
    "### Этот этап необходим для того, чтобы получить параметр d - порядок дифференцирования, который позволяет перейти от нестационарного ряда к стационарному"
   ]
  },
  {
   "cell_type": "code",
   "execution_count": 15,
   "id": "9e345c6a",
   "metadata": {},
   "outputs": [],
   "source": [
    "stat_df = pd.DataFrame()"
   ]
  },
  {
   "cell_type": "code",
   "execution_count": 16,
   "id": "60c445bf",
   "metadata": {},
   "outputs": [],
   "source": [
    "stat_df['value'] = new_df['value'].diff(periods=1).dropna()"
   ]
  },
  {
   "cell_type": "markdown",
   "id": "dcfcdcbe",
   "metadata": {},
   "source": [
    "В коде выше функция diff() вычисляет разность исходного ряда с рядом с заданным смещением периода. Период смещения передается как параметр period."
   ]
  },
  {
   "cell_type": "code",
   "execution_count": 18,
   "id": "580155ec",
   "metadata": {},
   "outputs": [
    {
     "data": {
      "text/html": [
       "<div>\n",
       "<style scoped>\n",
       "    .dataframe tbody tr th:only-of-type {\n",
       "        vertical-align: middle;\n",
       "    }\n",
       "\n",
       "    .dataframe tbody tr th {\n",
       "        vertical-align: top;\n",
       "    }\n",
       "\n",
       "    .dataframe thead th {\n",
       "        text-align: right;\n",
       "    }\n",
       "</style>\n",
       "<table border=\"1\" class=\"dataframe\">\n",
       "  <thead>\n",
       "    <tr style=\"text-align: right;\">\n",
       "      <th></th>\n",
       "      <th>value</th>\n",
       "    </tr>\n",
       "  </thead>\n",
       "  <tbody>\n",
       "    <tr>\n",
       "      <th>1585</th>\n",
       "      <td>1.68</td>\n",
       "    </tr>\n",
       "    <tr>\n",
       "      <th>1586</th>\n",
       "      <td>-1.23</td>\n",
       "    </tr>\n",
       "    <tr>\n",
       "      <th>1587</th>\n",
       "      <td>0.59</td>\n",
       "    </tr>\n",
       "    <tr>\n",
       "      <th>1588</th>\n",
       "      <td>-0.62</td>\n",
       "    </tr>\n",
       "    <tr>\n",
       "      <th>1589</th>\n",
       "      <td>0.73</td>\n",
       "    </tr>\n",
       "    <tr>\n",
       "      <th>...</th>\n",
       "      <td>...</td>\n",
       "    </tr>\n",
       "    <tr>\n",
       "      <th>27950</th>\n",
       "      <td>0.60</td>\n",
       "    </tr>\n",
       "    <tr>\n",
       "      <th>28138</th>\n",
       "      <td>0.30</td>\n",
       "    </tr>\n",
       "    <tr>\n",
       "      <th>28326</th>\n",
       "      <td>-0.10</td>\n",
       "    </tr>\n",
       "    <tr>\n",
       "      <th>28514</th>\n",
       "      <td>-0.20</td>\n",
       "    </tr>\n",
       "    <tr>\n",
       "      <th>28702</th>\n",
       "      <td>-0.20</td>\n",
       "    </tr>\n",
       "  </tbody>\n",
       "</table>\n",
       "<p>154 rows × 1 columns</p>\n",
       "</div>"
      ],
      "text/plain": [
       "       value\n",
       "1585    1.68\n",
       "1586   -1.23\n",
       "1587    0.59\n",
       "1588   -0.62\n",
       "1589    0.73\n",
       "...      ...\n",
       "27950   0.60\n",
       "28138   0.30\n",
       "28326  -0.10\n",
       "28514  -0.20\n",
       "28702  -0.20\n",
       "\n",
       "[154 rows x 1 columns]"
      ]
     },
     "execution_count": 18,
     "metadata": {},
     "output_type": "execute_result"
    }
   ],
   "source": [
    "stat_df"
   ]
  },
  {
   "cell_type": "code",
   "execution_count": 28,
   "id": "a113f591",
   "metadata": {},
   "outputs": [],
   "source": [
    "stat_df2 = stat_df2[pd.notnull(stat_df2['value'])]"
   ]
  },
  {
   "cell_type": "markdown",
   "id": "2ec2a493",
   "metadata": {},
   "source": [
    "Т.к. в разности первое значение получиться неопределенным, то нам надо избавиться от него для этого и используется метод notnull()."
   ]
  },
  {
   "cell_type": "code",
   "execution_count": 19,
   "id": "50a42b29",
   "metadata": {},
   "outputs": [
    {
     "name": "stdout",
     "output_type": "stream",
     "text": [
      "adf:  -3.9300152040897545\n",
      "p-value:  0.0018247266254211715\n",
      "Critical values:  {'1%': -3.477261624048995, '5%': -2.8821181874544233, '10%': -2.5777431104939494}\n",
      "ряд стационарен\n"
     ]
    }
   ],
   "source": [
    "test = sm.tsa.stattools.adfuller(stat_df['value'])\n",
    "print('adf: ', test[0]) \n",
    "print('p-value: ', test[1])\n",
    "print('Critical values: ', test[4])\n",
    "if test[0]> test[4]['5%']: \n",
    "    print('ряд не стационарен')\n",
    "else:\n",
    "    print('ряд стационарен')"
   ]
  },
  {
   "cell_type": "markdown",
   "id": "23b2212a",
   "metadata": {},
   "source": [
    "#### Получили, что дифференцирование первого порядка (d=1) позволяет привести ряд к стационарному виду"
   ]
  },
  {
   "cell_type": "markdown",
   "id": "85791d3c",
   "metadata": {},
   "source": [
    "## 4) Построение модели временного ряда"
   ]
  },
  {
   "cell_type": "markdown",
   "id": "4cacdaf5",
   "metadata": {},
   "source": [
    "### 4.1) Построение графика АКФ и ЧАКФ для нахождения q - параметра скользящего среднего и p - порядка афторегрессии"
   ]
  },
  {
   "cell_type": "markdown",
   "id": "365b2ca8",
   "metadata": {},
   "source": [
    "https://studme.org/41017/ekonomika/opredelenie_poryadka_modeli_avtoregressii_skolzyaschey_sredney"
   ]
  },
  {
   "cell_type": "code",
   "execution_count": 21,
   "id": "0d03d0c3",
   "metadata": {},
   "outputs": [
    {
     "data": {
      "image/png": "[encoded data removed]",
      "text/plain": [
       "<Figure size 864x576 with 2 Axes>"
      ]
     },
     "metadata": {
      "needs_background": "light"
     },
     "output_type": "display_data"
    }
   ],
   "source": [
    "fig = plt.figure(figsize=(12,8))\n",
    "ax1 = fig.add_subplot(211)\n",
    "fig = sm.graphics.tsa.plot_acf(new_df['value'].values.squeeze(), lags=40, ax=ax1)"
   ]
  },
  {
   "cell_type": "markdown",
   "id": "4fd01d27",
   "metadata": {},
   "source": [
    "### 5.2) Построение модели SARIMA"
   ]
  },
  {
   "cell_type": "markdown",
   "id": "6889b115",
   "metadata": {},
   "source": [
    "#### 5.2.1) Формирование набора данных, которые используем для построения модели и статистического тестирования"
   ]
  },
  {
   "cell_type": "code",
   "execution_count": 23,
   "id": "dcf64e9f",
   "metadata": {},
   "outputs": [],
   "source": [
    "data_model = new_df['value'].dropna()"
   ]
  },
  {
   "cell_type": "code",
   "execution_count": 24,
   "id": "ce60dbf4",
   "metadata": {},
   "outputs": [],
   "source": [
    "data_model = data_model.reset_index(drop=True)"
   ]
  },
  {
   "cell_type": "code",
   "execution_count": 25,
   "id": "b0014bf1",
   "metadata": {},
   "outputs": [],
   "source": [
    "data_model_test = data_model.iloc[:140]"
   ]
  },
  {
   "cell_type": "code",
   "execution_count": 26,
   "id": "48eff18f",
   "metadata": {},
   "outputs": [
    {
     "data": {
      "text/plain": [
       "0      5.16\n",
       "1      6.84\n",
       "2      5.61\n",
       "3      6.20\n",
       "4      5.58\n",
       "       ... \n",
       "135    2.90\n",
       "136    2.50\n",
       "137    2.90\n",
       "138    3.50\n",
       "139    4.40\n",
       "Name: value, Length: 140, dtype: float64"
      ]
     },
     "execution_count": 26,
     "metadata": {},
     "output_type": "execute_result"
    }
   ],
   "source": [
    "data_model_test"
   ]
  },
  {
   "cell_type": "markdown",
   "id": "418a48ed",
   "metadata": {},
   "source": [
    "#### 5.2.2) Задаём параметры модели SARIMA(p,d,q)(P,D,Q)m"
   ]
  },
  {
   "cell_type": "markdown",
   "id": "bae7e445",
   "metadata": {},
   "source": [
    "    p: Порядок авторегрессии тренда.\n",
    "    d: Порядок изменения тренда.\n",
    "    q: Тренд скользящей средней.\n",
    "    \n",
    "    P: Сезонный порядок авторегрессии.\n",
    "    D: Порядок сезонных разниц.\n",
    "    Q: Сезонный порядок скользящих средних.\n",
    "    m: Количество временных шагов за один сезонный период."
   ]
  },
  {
   "cell_type": "markdown",
   "id": "c48ee985",
   "metadata": {},
   "source": [
    "https://machinelearningmastery.ru/sarima-for-time-series-forecasting-in-python/"
   ]
  },
  {
   "cell_type": "markdown",
   "id": "8b673a9e",
   "metadata": {},
   "source": [
    "https://www.statsmodels.org/dev/generated/statsmodels.tsa.statespace.sarimax.SARIMAX.html"
   ]
  },
  {
   "cell_type": "code",
   "execution_count": 37,
   "id": "67c345b5",
   "metadata": {},
   "outputs": [],
   "source": [
    "my_order = (3,1,1) # (p,d,q)"
   ]
  },
  {
   "cell_type": "code",
   "execution_count": 46,
   "id": "faf1065d",
   "metadata": {},
   "outputs": [],
   "source": [
    "my_seasonal_order = (1,1,2,12) # (P,D,Q,m)"
   ]
  },
  {
   "cell_type": "code",
   "execution_count": 47,
   "id": "7596bde1",
   "metadata": {},
   "outputs": [],
   "source": [
    "model = sm.tsa.SARIMAX(data_model_test, order=my_order, seasonal_order=my_seasonal_order).fit(full_output=False, disp=0)"
   ]
  },
  {
   "cell_type": "code",
   "execution_count": 48,
   "id": "a386bff7",
   "metadata": {},
   "outputs": [],
   "source": [
    "pred = model.predict(140,165, typ='levels')"
   ]
  },
  {
   "cell_type": "code",
   "execution_count": 49,
   "id": "bcdfa5c8",
   "metadata": {},
   "outputs": [
    {
     "data": {
      "text/plain": [
       "<AxesSubplot:>"
      ]
     },
     "execution_count": 49,
     "metadata": {},
     "output_type": "execute_result"
    },
    {
     "data": {
      "image/png": "[encoded data removed]",
      "text/plain": [
       "<Figure size 864x432 with 1 Axes>"
      ]
     },
     "metadata": {
      "needs_background": "light"
     },
     "output_type": "display_data"
    }
   ],
   "source": [
    "data_model.plot(figsize=(12,6))\n",
    "pred.plot(style='r--')"
   ]
  },
  {
   "cell_type": "code",
   "execution_count": null,
   "id": "cceb2fc8",
   "metadata": {},
   "outputs": [],
   "source": []
  }
 ],
 "metadata": {
  "kernelspec": {
   "display_name": "Python 3",
   "language": "python",
   "name": "python3"
  },
  "language_info": {
   "codemirror_mode": {
    "name": "ipython",
    "version": 3
   },
   "file_extension": ".py",
   "mimetype": "text/x-python",
   "name": "python",
   "nbconvert_exporter": "python",
   "pygments_lexer": "ipython3",
   "version": "3.8.8"
  }
 },
 "nbformat": 4,
 "nbformat_minor": 5
}
