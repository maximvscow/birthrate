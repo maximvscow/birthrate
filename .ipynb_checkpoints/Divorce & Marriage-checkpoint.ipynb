{
 "cells": [
  {
   "cell_type": "markdown",
   "id": "59e69bcc",
   "metadata": {},
   "source": [
    "## Построение графика по количесту зарегистрированных разводов за месяц с 2009 по 2021 год\n"
   ]
  },
  {
   "cell_type": "markdown",
   "id": "3f417de2",
   "metadata": {},
   "source": [
    "Официальные данные РОССТАТ экспортированы с сайта: \n",
    "     'http://bi.gks.ru/biportal/contourbi.jsp?allsol=1&solution=Dashboard'"
   ]
  },
  {
   "cell_type": "markdown",
   "id": "749cc5e4",
   "metadata": {},
   "source": [
    "Импорт библиотеки pandas (для работы с табличными данными) и pyplot для построения графика"
   ]
  },
  {
   "cell_type": "code",
   "execution_count": 2,
   "id": "d416c30a",
   "metadata": {},
   "outputs": [],
   "source": [
    "import pandas as pd\n",
    "import matplotlib.pyplot as plt\n",
    "#  Подключаем модуль управления тиками:\n",
    "import matplotlib.ticker as ticker"
   ]
  },
  {
   "cell_type": "markdown",
   "id": "fb0f4085",
   "metadata": {},
   "source": [
    "Загрузка в датафрейм pandas из csv "
   ]
  },
  {
   "cell_type": "code",
   "execution_count": 3,
   "id": "7ad0b61b",
   "metadata": {},
   "outputs": [],
   "source": [
    "df = pd.read_csv('divorce_marriage.csv', encoding='ansi')"
   ]
  },
  {
   "cell_type": "markdown",
   "id": "180bbf56",
   "metadata": {},
   "source": [
    "Отображение датафрейма"
   ]
  },
  {
   "cell_type": "code",
   "execution_count": 4,
   "id": "8c4aec3a",
   "metadata": {},
   "outputs": [
    {
     "data": {
      "text/html": [
       "<div>\n",
       "<style scoped>\n",
       "    .dataframe tbody tr th:only-of-type {\n",
       "        vertical-align: middle;\n",
       "    }\n",
       "\n",
       "    .dataframe tbody tr th {\n",
       "        vertical-align: top;\n",
       "    }\n",
       "\n",
       "    .dataframe thead th {\n",
       "        text-align: right;\n",
       "    }\n",
       "</style>\n",
       "<table border=\"1\" class=\"dataframe\">\n",
       "  <thead>\n",
       "    <tr style=\"text-align: right;\">\n",
       "      <th></th>\n",
       "      <th>territory</th>\n",
       "      <th>id_indicator</th>\n",
       "      <th>period</th>\n",
       "      <th>territory.ccube.0</th>\n",
       "      <th>territory.ccube.1</th>\n",
       "      <th>territory.ccube.2</th>\n",
       "      <th>territory.ccube.attr.0</th>\n",
       "      <th>territory.ccube.3</th>\n",
       "      <th>territory.ccube.4</th>\n",
       "      <th>value</th>\n",
       "    </tr>\n",
       "  </thead>\n",
       "  <tbody>\n",
       "    <tr>\n",
       "      <th>0</th>\n",
       "      <td>643</td>\n",
       "      <td>814</td>\n",
       "      <td>31 Jan 2009 00:00:00</td>\n",
       "      <td>Российская Федерация</td>\n",
       "      <td>NaN</td>\n",
       "      <td>NaN</td>\n",
       "      <td>1</td>\n",
       "      <td>Российская Федерация</td>\n",
       "      <td>Российская Федерация</td>\n",
       "      <td>5.44</td>\n",
       "    </tr>\n",
       "    <tr>\n",
       "      <th>1</th>\n",
       "      <td>643</td>\n",
       "      <td>814</td>\n",
       "      <td>28 Feb 2009 00:00:00</td>\n",
       "      <td>Российская Федерация</td>\n",
       "      <td>NaN</td>\n",
       "      <td>NaN</td>\n",
       "      <td>1</td>\n",
       "      <td>Российская Федерация</td>\n",
       "      <td>Российская Федерация</td>\n",
       "      <td>6.39</td>\n",
       "    </tr>\n",
       "    <tr>\n",
       "      <th>2</th>\n",
       "      <td>643</td>\n",
       "      <td>814</td>\n",
       "      <td>31 Mar 2009 00:00:00</td>\n",
       "      <td>Российская Федерация</td>\n",
       "      <td>NaN</td>\n",
       "      <td>NaN</td>\n",
       "      <td>1</td>\n",
       "      <td>Российская Федерация</td>\n",
       "      <td>Российская Федерация</td>\n",
       "      <td>6.05</td>\n",
       "    </tr>\n",
       "    <tr>\n",
       "      <th>3</th>\n",
       "      <td>643</td>\n",
       "      <td>814</td>\n",
       "      <td>30 Apr 2009 00:00:00</td>\n",
       "      <td>Российская Федерация</td>\n",
       "      <td>NaN</td>\n",
       "      <td>NaN</td>\n",
       "      <td>1</td>\n",
       "      <td>Российская Федерация</td>\n",
       "      <td>Российская Федерация</td>\n",
       "      <td>6.65</td>\n",
       "    </tr>\n",
       "    <tr>\n",
       "      <th>4</th>\n",
       "      <td>643</td>\n",
       "      <td>814</td>\n",
       "      <td>31 May 2009 00:00:00</td>\n",
       "      <td>Российская Федерация</td>\n",
       "      <td>NaN</td>\n",
       "      <td>NaN</td>\n",
       "      <td>1</td>\n",
       "      <td>Российская Федерация</td>\n",
       "      <td>Российская Федерация</td>\n",
       "      <td>6.06</td>\n",
       "    </tr>\n",
       "    <tr>\n",
       "      <th>...</th>\n",
       "      <td>...</td>\n",
       "      <td>...</td>\n",
       "      <td>...</td>\n",
       "      <td>...</td>\n",
       "      <td>...</td>\n",
       "      <td>...</td>\n",
       "      <td>...</td>\n",
       "      <td>...</td>\n",
       "      <td>...</td>\n",
       "      <td>...</td>\n",
       "    </tr>\n",
       "    <tr>\n",
       "      <th>28873</th>\n",
       "      <td>10000000</td>\n",
       "      <td>816</td>\n",
       "      <td>31 Dec 2021 00:00:00</td>\n",
       "      <td>Российская Федерация</td>\n",
       "      <td>Дальневосточный федеральный округ</td>\n",
       "      <td>Амурская область</td>\n",
       "      <td>3</td>\n",
       "      <td>Амурская область</td>\n",
       "      <td>Амурская область</td>\n",
       "      <td>5.60</td>\n",
       "    </tr>\n",
       "    <tr>\n",
       "      <th>28874</th>\n",
       "      <td>44000000</td>\n",
       "      <td>816</td>\n",
       "      <td>31 Dec 2021 00:00:00</td>\n",
       "      <td>Российская Федерация</td>\n",
       "      <td>Дальневосточный федеральный округ</td>\n",
       "      <td>Магаданская область</td>\n",
       "      <td>3</td>\n",
       "      <td>Магаданская область</td>\n",
       "      <td>Магаданская область</td>\n",
       "      <td>5.90</td>\n",
       "    </tr>\n",
       "    <tr>\n",
       "      <th>28875</th>\n",
       "      <td>64000000</td>\n",
       "      <td>816</td>\n",
       "      <td>31 Dec 2021 00:00:00</td>\n",
       "      <td>Российская Федерация</td>\n",
       "      <td>Дальневосточный федеральный округ</td>\n",
       "      <td>Сахалинская область</td>\n",
       "      <td>3</td>\n",
       "      <td>Сахалинская область</td>\n",
       "      <td>Сахалинская область</td>\n",
       "      <td>5.00</td>\n",
       "    </tr>\n",
       "    <tr>\n",
       "      <th>28876</th>\n",
       "      <td>99000000</td>\n",
       "      <td>816</td>\n",
       "      <td>31 Dec 2021 00:00:00</td>\n",
       "      <td>Российская Федерация</td>\n",
       "      <td>Дальневосточный федеральный округ</td>\n",
       "      <td>Еврейская автономная область</td>\n",
       "      <td>3</td>\n",
       "      <td>Еврейская автономная область</td>\n",
       "      <td>Еврейская автономная область</td>\n",
       "      <td>6.40</td>\n",
       "    </tr>\n",
       "    <tr>\n",
       "      <th>28877</th>\n",
       "      <td>77000000</td>\n",
       "      <td>816</td>\n",
       "      <td>31 Dec 2021 00:00:00</td>\n",
       "      <td>Российская Федерация</td>\n",
       "      <td>Дальневосточный федеральный округ</td>\n",
       "      <td>Чукотский автономный округ</td>\n",
       "      <td>3</td>\n",
       "      <td>Чукотский автономный округ</td>\n",
       "      <td>Чукотский автономный округ</td>\n",
       "      <td>4.60</td>\n",
       "    </tr>\n",
       "  </tbody>\n",
       "</table>\n",
       "<p>28878 rows × 10 columns</p>\n",
       "</div>"
      ],
      "text/plain": [
       "       territory  id_indicator                period     territory.ccube.0  \\\n",
       "0            643           814  31 Jan 2009 00:00:00  Российская Федерация   \n",
       "1            643           814  28 Feb 2009 00:00:00  Российская Федерация   \n",
       "2            643           814  31 Mar 2009 00:00:00  Российская Федерация   \n",
       "3            643           814  30 Apr 2009 00:00:00  Российская Федерация   \n",
       "4            643           814  31 May 2009 00:00:00  Российская Федерация   \n",
       "...          ...           ...                   ...                   ...   \n",
       "28873   10000000           816  31 Dec 2021 00:00:00  Российская Федерация   \n",
       "28874   44000000           816  31 Dec 2021 00:00:00  Российская Федерация   \n",
       "28875   64000000           816  31 Dec 2021 00:00:00  Российская Федерация   \n",
       "28876   99000000           816  31 Dec 2021 00:00:00  Российская Федерация   \n",
       "28877   77000000           816  31 Dec 2021 00:00:00  Российская Федерация   \n",
       "\n",
       "                       territory.ccube.1             territory.ccube.2  \\\n",
       "0                                    NaN                           NaN   \n",
       "1                                    NaN                           NaN   \n",
       "2                                    NaN                           NaN   \n",
       "3                                    NaN                           NaN   \n",
       "4                                    NaN                           NaN   \n",
       "...                                  ...                           ...   \n",
       "28873  Дальневосточный федеральный округ              Амурская область   \n",
       "28874  Дальневосточный федеральный округ           Магаданская область   \n",
       "28875  Дальневосточный федеральный округ           Сахалинская область   \n",
       "28876  Дальневосточный федеральный округ  Еврейская автономная область   \n",
       "28877  Дальневосточный федеральный округ    Чукотский автономный округ   \n",
       "\n",
       "       territory.ccube.attr.0             territory.ccube.3  \\\n",
       "0                           1          Российская Федерация   \n",
       "1                           1          Российская Федерация   \n",
       "2                           1          Российская Федерация   \n",
       "3                           1          Российская Федерация   \n",
       "4                           1          Российская Федерация   \n",
       "...                       ...                           ...   \n",
       "28873                       3              Амурская область   \n",
       "28874                       3           Магаданская область   \n",
       "28875                       3           Сахалинская область   \n",
       "28876                       3  Еврейская автономная область   \n",
       "28877                       3    Чукотский автономный округ   \n",
       "\n",
       "                  territory.ccube.4  value  \n",
       "0              Российская Федерация   5.44  \n",
       "1              Российская Федерация   6.39  \n",
       "2              Российская Федерация   6.05  \n",
       "3              Российская Федерация   6.65  \n",
       "4              Российская Федерация   6.06  \n",
       "...                             ...    ...  \n",
       "28873              Амурская область   5.60  \n",
       "28874           Магаданская область   5.90  \n",
       "28875           Сахалинская область   5.00  \n",
       "28876  Еврейская автономная область   6.40  \n",
       "28877    Чукотский автономный округ   4.60  \n",
       "\n",
       "[28878 rows x 10 columns]"
      ]
     },
     "execution_count": 4,
     "metadata": {},
     "output_type": "execute_result"
    }
   ],
   "source": [
    "df"
   ]
  },
  {
   "cell_type": "markdown",
   "id": "24c0546b",
   "metadata": {},
   "source": [
    "    - id_indicator - это id показателя (браки = 814, разводы = 816)\n",
    "    - territory.ccube.(0-2) - это идентификатор уровня субъекта (0 - страна, 1 - федеральный округ, 2 - область или округ)\n",
    "*В связи с этим составим датафрейм, выбрав только нужный нам субъект и показатель*"
   ]
  },
  {
   "cell_type": "code",
   "execution_count": 5,
   "id": "16a9dd6a",
   "metadata": {},
   "outputs": [],
   "source": [
    "orel_df = df.loc[(df['territory.ccube.3'] == 'Орловская область') & (df['id_indicator'] == 814)]"
   ]
  },
  {
   "cell_type": "markdown",
   "id": "a7cafafc",
   "metadata": {},
   "source": [
    "Отображение нового датафрейма по бракам для Орловской области после удаления лишних колонок"
   ]
  },
  {
   "cell_type": "code",
   "execution_count": 6,
   "id": "6c03cac6",
   "metadata": {},
   "outputs": [
    {
     "data": {
      "text/html": [
       "<div>\n",
       "<style scoped>\n",
       "    .dataframe tbody tr th:only-of-type {\n",
       "        vertical-align: middle;\n",
       "    }\n",
       "\n",
       "    .dataframe tbody tr th {\n",
       "        vertical-align: top;\n",
       "    }\n",
       "\n",
       "    .dataframe thead th {\n",
       "        text-align: right;\n",
       "    }\n",
       "</style>\n",
       "<table border=\"1\" class=\"dataframe\">\n",
       "  <thead>\n",
       "    <tr style=\"text-align: right;\">\n",
       "      <th></th>\n",
       "      <th>period</th>\n",
       "      <th>value</th>\n",
       "    </tr>\n",
       "  </thead>\n",
       "  <tbody>\n",
       "    <tr>\n",
       "      <th>1584</th>\n",
       "      <td>31 Jan 2009 00:00:00</td>\n",
       "      <td>5.16</td>\n",
       "    </tr>\n",
       "    <tr>\n",
       "      <th>1585</th>\n",
       "      <td>28 Feb 2009 00:00:00</td>\n",
       "      <td>6.84</td>\n",
       "    </tr>\n",
       "    <tr>\n",
       "      <th>1586</th>\n",
       "      <td>31 Mar 2009 00:00:00</td>\n",
       "      <td>5.61</td>\n",
       "    </tr>\n",
       "    <tr>\n",
       "      <th>1587</th>\n",
       "      <td>30 Apr 2009 00:00:00</td>\n",
       "      <td>6.20</td>\n",
       "    </tr>\n",
       "    <tr>\n",
       "      <th>1588</th>\n",
       "      <td>31 May 2009 00:00:00</td>\n",
       "      <td>5.58</td>\n",
       "    </tr>\n",
       "    <tr>\n",
       "      <th>...</th>\n",
       "      <td>...</td>\n",
       "      <td>...</td>\n",
       "    </tr>\n",
       "    <tr>\n",
       "      <th>27950</th>\n",
       "      <td>31 Aug 2021 00:00:00</td>\n",
       "      <td>6.30</td>\n",
       "    </tr>\n",
       "    <tr>\n",
       "      <th>28138</th>\n",
       "      <td>30 Sep 2021 00:00:00</td>\n",
       "      <td>6.60</td>\n",
       "    </tr>\n",
       "    <tr>\n",
       "      <th>28326</th>\n",
       "      <td>31 Oct 2021 00:00:00</td>\n",
       "      <td>6.50</td>\n",
       "    </tr>\n",
       "    <tr>\n",
       "      <th>28514</th>\n",
       "      <td>30 Nov 2021 00:00:00</td>\n",
       "      <td>6.30</td>\n",
       "    </tr>\n",
       "    <tr>\n",
       "      <th>28702</th>\n",
       "      <td>31 Dec 2021 00:00:00</td>\n",
       "      <td>6.10</td>\n",
       "    </tr>\n",
       "  </tbody>\n",
       "</table>\n",
       "<p>155 rows × 2 columns</p>\n",
       "</div>"
      ],
      "text/plain": [
       "                     period  value\n",
       "1584   31 Jan 2009 00:00:00   5.16\n",
       "1585   28 Feb 2009 00:00:00   6.84\n",
       "1586   31 Mar 2009 00:00:00   5.61\n",
       "1587   30 Apr 2009 00:00:00   6.20\n",
       "1588   31 May 2009 00:00:00   5.58\n",
       "...                     ...    ...\n",
       "27950  31 Aug 2021 00:00:00   6.30\n",
       "28138  30 Sep 2021 00:00:00   6.60\n",
       "28326  31 Oct 2021 00:00:00   6.50\n",
       "28514  30 Nov 2021 00:00:00   6.30\n",
       "28702  31 Dec 2021 00:00:00   6.10\n",
       "\n",
       "[155 rows x 2 columns]"
      ]
     },
     "execution_count": 6,
     "metadata": {},
     "output_type": "execute_result"
    }
   ],
   "source": [
    "orel_df.drop([\"territory\", \"id_indicator\", \"territory.ccube.0\", \"territory.ccube.1\", \"territory.ccube.2\", \"territory.ccube.attr.0\", \"territory.ccube.3\", \"territory.ccube.4\"], axis=1)"
   ]
  },
  {
   "cell_type": "code",
   "execution_count": 7,
   "id": "a658b9f1",
   "metadata": {},
   "outputs": [
    {
     "data": {
      "text/plain": [
       "territory                   int64\n",
       "id_indicator                int64\n",
       "period                     object\n",
       "territory.ccube.0          object\n",
       "territory.ccube.1          object\n",
       "territory.ccube.2          object\n",
       "territory.ccube.attr.0      int64\n",
       "territory.ccube.3          object\n",
       "territory.ccube.4          object\n",
       "value                     float64\n",
       "dtype: object"
      ]
     },
     "execution_count": 7,
     "metadata": {},
     "output_type": "execute_result"
    }
   ],
   "source": [
    "df.dtypes"
   ]
  },
  {
   "cell_type": "code",
   "execution_count": 9,
   "id": "459fc366",
   "metadata": {},
   "outputs": [
    {
     "data": {
      "image/png": "[encoded data removed]",
      "text/plain": [
       "<Figure size 864x576 with 1 Axes>"
      ]
     },
     "metadata": {
      "needs_background": "light"
     },
     "output_type": "display_data"
    }
   ],
   "source": [
    "fig, ax = plt.subplots()\n",
    "\n",
    "x = orel_df['period']\n",
    "y = orel_df['value']\n",
    "\n",
    "ax.plot(x, y, color = 'r', linewidth = 2)\n",
    "\n",
    "#  Исправление формата подписей оси x\n",
    "ax.xaxis.set_major_locator(ticker.MultipleLocator(30))\n",
    "ax.xaxis.set_minor_locator(ticker.MultipleLocator(1))\n",
    "\n",
    "\n",
    "fig.set_figwidth(12)\n",
    "fig.set_figheight(8)\n",
    "\n",
    "plt.show()"
   ]
  },
  {
   "cell_type": "markdown",
   "id": "98162018",
   "metadata": {},
   "source": [
    "## Построение графика автокорреляционной функции"
   ]
  },
  {
   "cell_type": "markdown",
   "id": "a4fdd135",
   "metadata": {},
   "source": [
    "Импорт необходимых библиотек (если нет, установить через !pip install)"
   ]
  },
  {
   "cell_type": "code",
   "execution_count": 1,
   "id": "db85e1d5",
   "metadata": {},
   "outputs": [],
   "source": [
    "from statsmodels.graphics.tsaplots import plot_acf"
   ]
  },
  {
   "cell_type": "code",
   "execution_count": 12,
   "id": "c16eacec",
   "metadata": {},
   "outputs": [
    {
     "data": {
      "image/png": "[encoded data removed]",
      "text/plain": [
       "<Figure size 432x288 with 1 Axes>"
      ]
     },
     "execution_count": 12,
     "metadata": {},
     "output_type": "execute_result"
    },
    {
     "data": {
      "image/png": "[encoded data removed]",
      "text/plain": [
       "<Figure size 432x288 with 1 Axes>"
      ]
     },
     "metadata": {
      "needs_background": "light"
     },
     "output_type": "display_data"
    }
   ],
   "source": [
    "plot_acf(orel_df['value'])"
   ]
  },
  {
   "cell_type": "markdown",
   "id": "533a58b5",
   "metadata": {},
   "source": [
    "## Тест Дикки-Фуллера"
   ]
  },
  {
   "cell_type": "code",
   "execution_count": 19,
   "id": "9c6d5362",
   "metadata": {},
   "outputs": [],
   "source": [
    "import statsmodels as sm"
   ]
  },
  {
   "cell_type": "code",
   "execution_count": 23,
   "id": "aba56049",
   "metadata": {},
   "outputs": [
    {
     "name": "stdout",
     "output_type": "stream",
     "text": [
      "adf:  -1.6855543395519295\n",
      "p-value:  0.4385702627984426\n",
      "Critical values:  {'1%': -3.477261624048995, '5%': -2.8821181874544233, '10%': -2.5777431104939494}\n",
      "есть единичные корни, ряд не стационарен\n"
     ]
    }
   ],
   "source": [
    "test = sm.tsa.stattools.adfuller(orel_df['value'])\n",
    "print('adf: ', test[0]) \n",
    "print('p-value: ', test[1])\n",
    "print('Critical values: ', test[4])\n",
    "if test[0]> test[4]['5%']: \n",
    "    print('есть единичные корни, ряд не стационарен')\n",
    "else:\n",
    "    print('единичных корней нет, ряд стационарен')"
   ]
  },
  {
   "cell_type": "code",
   "execution_count": null,
   "id": "79819389",
   "metadata": {},
   "outputs": [],
   "source": []
  }
 ],
 "metadata": {
  "kernelspec": {
   "display_name": "Python 3",
   "language": "python",
   "name": "python3"
  },
  "language_info": {
   "codemirror_mode": {
    "name": "ipython",
    "version": 3
   },
   "file_extension": ".py",
   "mimetype": "text/x-python",
   "name": "python",
   "nbconvert_exporter": "python",
   "pygments_lexer": "ipython3",
   "version": "3.8.8"
  }
 },
 "nbformat": 4,
 "nbformat_minor": 5
}
